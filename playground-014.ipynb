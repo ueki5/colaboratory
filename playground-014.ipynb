{
  "nbformat": 4,
  "nbformat_minor": 0,
  "metadata": {
    "colab": {
      "provenance": [],
      "include_colab_link": true
    },
    "kernelspec": {
      "name": "python3",
      "display_name": "Python 3"
    },
    "language_info": {
      "name": "python"
    }
  },
  "cells": [
    {
      "cell_type": "markdown",
      "metadata": {
        "id": "view-in-github",
        "colab_type": "text"
      },
      "source": [
        "<a href=\"https://colab.research.google.com/github/ueki5/colaboratory/blob/main/playground-014.ipynb\" target=\"_parent\"><img src=\"https://colab.research.google.com/assets/colab-badge.svg\" alt=\"Open In Colab\"/></a>"
      ]
    },
    {
      "cell_type": "code",
      "execution_count": 6,
      "metadata": {
        "colab": {
          "base_uri": "https://localhost:8080/"
        },
        "id": "XI9EQYX2lqn7",
        "outputId": "d71be567-589c-4383-edba-0dc661241814"
      },
      "outputs": [
        {
          "output_type": "stream",
          "name": "stdout",
          "text": [
            "Requirement already satisfied: MarkupSafe>=2.0 in /usr/local/lib/python3.12/dist-packages (from jinja2->torch->torchviz) (3.0.3)\n",
            "Requirement already satisfied: torchinfo in /usr/local/lib/python3.12/dist-packages (1.8.0)\n",
            "Requirement already satisfied: six>=1.5 in /usr/local/lib/python3.12/dist-packages (from python-dateutil>=2.7->matplotlib->japanize-matplotlib) (1.17.0)\n"
          ]
        }
      ],
      "source": [
        "!pip install torchviz | tail -n 1\n",
        "!pip install torchinfo | tail -n 1\n",
        "!pip install japanize-matplotlib | tail -n 1\n"
      ]
    },
    {
      "cell_type": "code",
      "source": [
        "import numpy as np\n",
        "import pandas as pd\n",
        "import matplotlib.pyplot as plt\n",
        "import japanize_matplotlib\n",
        "import torch\n",
        "from torchinfo import summary\n",
        "from torchviz import make_dot\n",
        "\n",
        "# # シグモイド関数\n",
        "# x_np = np.arange(-4, 4.1, 0.25)\n",
        "# x = torch.tensor(x_np).float()\n",
        "# y = torch.sigmoid(x)\n",
        "\n",
        "# plt.title('シグモイド関数のグラフ')\n",
        "# plt.plot(x.data, y.data)\n",
        "# plt.show()\n",
        "\n",
        "# データ準備\n",
        "\n",
        "from sklearn.datasets import load_iris\n",
        "\n",
        "# データ読み込み\n",
        "iris = load_iris()\n",
        "\n",
        "# 入力データと正解データ取得\n",
        "x_org, y_org = iris.data, iris.target\n",
        "\n",
        "# 結果確認\n",
        "print('元データ', x_org.shape, y_org.shape)\n",
        "# print(x_org)\n",
        "# print(y_org)\n",
        "\n",
        "# データ絞り込み\n",
        "#  クラス0,1のみ\n",
        "#  項目 sepal_lengthとsepal_widthのみ\n",
        "\n",
        "x_data = iris.data[:100, :2]\n",
        "y_data = iris.target[:100]\n",
        "\n",
        "# 結果確認\n",
        "print('対象データ', x_data.shape, y_data.shape)\n",
        "# print(x_data)\n",
        "# print(y_data)\n",
        "\n",
        "# 訓練データ、検証データに分割（シャッフルも同時に実施）\n",
        "from sklearn.model_selection import train_test_split\n",
        "x_train, x_test, y_train, y_test = train_test_split(\n",
        "    x_data, y_data, train_size=70, test_size=30,\n",
        "    random_state=123\n",
        ")\n",
        "print(x_train.shape, x_test.shape, y_train.shape, y_test.shape)\n",
        "# print('x_train\\n',x_train)\n",
        "# print('y_train\\n',y_train)\n",
        "# print('x_test\\n',x_test)\n",
        "# print('y_test\\n',y_test)\n",
        "\n",
        "# # 散布図の表示（訓練データ）\n",
        "# x_t0 = x_train[y_train == 0]\n",
        "# x_t1 = x_train[y_train == 1]\n",
        "# plt.scatter(x_t0[:,0], x_t0[:,1], marker='x', c='b', label='0(setosa)')\n",
        "# plt.scatter(x_t1[:,0], x_t1[:,1], marker='o', c='k', label='1(versicolor)')\n",
        "# plt.xlabel('sepal_length')\n",
        "# plt.ylabel('sepal_width')\n",
        "# plt.legend()\n",
        "# plt.show()\n",
        "\n",
        "# # 散布図の表示（教師データ）\n",
        "# x_e0 = x_test[y_test == 0]\n",
        "# x_e1 = x_test[y_test == 1]\n",
        "# plt.scatter(x_e0[:,0], x_e0[:,1], marker='x', c='b', label='0(setosa)')\n",
        "# plt.scatter(x_e1[:,0], x_e1[:,1], marker='o', c='k', label='1(versicolor)')\n",
        "# plt.xlabel('sepal_length')\n",
        "# plt.ylabel('sepal_width')\n",
        "# plt.legend()\n",
        "# plt.show()\n",
        "\n",
        "###################################################\n",
        "# 強化学習\n",
        "###################################################\n",
        "n_input = x_train.shape[1]\n",
        "n_output = 1\n",
        "\n",
        "# カスタムクラス\n",
        "class Net(torch.nn.Module):\n",
        "  # 初期化\n",
        "  def __init__(self, n_input, n_output):\n",
        "    super().__init__()\n",
        "    # 線形関数を生成\n",
        "    self.l1 = torch.nn.Linear(n_input, n_output)\n",
        "    # 重み、バイアスの初期値を設定\n",
        "    torch.nn.init.constant_(self.l1.weight, 1.0)\n",
        "    torch.nn.init.constant_(self.l1.bias, 1.0)\n",
        "    print(f\"self.l1.weight.shape:{self.l1.weight.shape}\")\n",
        "    print(f\"self.l1.weight:{self.l1.weight}\")\n",
        "\n",
        "  # 予測関数\n",
        "  def forward(self, inputs):\n",
        "    outputs = self.l1(inputs) # 線形回帰\n",
        "    return outputs\n",
        "\n",
        "\n",
        "net = Net(n_input, n_output)"
      ],
      "metadata": {
        "colab": {
          "base_uri": "https://localhost:8080/"
        },
        "id": "ufPD67gDmKkw",
        "outputId": "e1633f20-87d0-4b92-afb7-91ce1c20c738"
      },
      "execution_count": 20,
      "outputs": [
        {
          "output_type": "stream",
          "name": "stdout",
          "text": [
            "元データ (150, 4) (150,)\n",
            "対象データ (100, 2) (100,)\n",
            "(70, 2) (30, 2) (70,) (30,)\n",
            "self.l1.weight.shape:torch.Size([1, 2])\n",
            "self.l1.weight:Parameter containing:\n",
            "tensor([[1., 1.]], requires_grad=True)\n"
          ]
        }
      ]
    }
  ]
}
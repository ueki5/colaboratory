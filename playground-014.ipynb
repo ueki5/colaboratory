{
  "nbformat": 4,
  "nbformat_minor": 0,
  "metadata": {
    "colab": {
      "provenance": [],
      "include_colab_link": true
    },
    "kernelspec": {
      "name": "python3",
      "display_name": "Python 3"
    },
    "language_info": {
      "name": "python"
    }
  },
  "cells": [
    {
      "cell_type": "markdown",
      "metadata": {
        "id": "view-in-github",
        "colab_type": "text"
      },
      "source": [
        "<a href=\"https://colab.research.google.com/github/ueki5/colaboratory/blob/main/playground-014.ipynb\" target=\"_parent\"><img src=\"https://colab.research.google.com/assets/colab-badge.svg\" alt=\"Open In Colab\"/></a>"
      ]
    },
    {
      "cell_type": "code",
      "execution_count": 2,
      "metadata": {
        "colab": {
          "base_uri": "https://localhost:8080/"
        },
        "id": "XI9EQYX2lqn7",
        "outputId": "6fadd2af-02f2-49f6-f6db-d131251b102f"
      },
      "outputs": [
        {
          "output_type": "stream",
          "name": "stdout",
          "text": [
            "Successfully installed torchviz-0.0.3\n",
            "Successfully installed torchinfo-1.8.0\n",
            "Successfully installed japanize-matplotlib-1.1.3\n",
            "Requirement already satisfied: packaging in /usr/local/lib/python3.12/dist-packages (from plotly) (25.0)\n"
          ]
        }
      ],
      "source": [
        "!pip install torchviz | tail -n 1\n",
        "!pip install torchinfo | tail -n 1\n",
        "!pip install japanize-matplotlib | tail -n 1\n",
        "!pip install plotly | tail -n 1\n"
      ]
    },
    {
      "cell_type": "code",
      "source": [
        "import numpy as np\n",
        "import pandas as pd\n",
        "import plotly.express as px\n",
        "import matplotlib.pyplot as plt\n",
        "import japanize_matplotlib\n",
        "import torch\n",
        "from torchinfo import summary\n",
        "from torchviz import make_dot\n",
        "import plotly.graph_objects as go\n",
        "import plotly.express as px\n",
        "from plotly.subplots import make_subplots\n",
        "\n",
        "# データ準備\n",
        "from sklearn.datasets import load_iris\n",
        "\n",
        "# データ読み込み\n",
        "iris = load_iris()\n",
        "\n",
        "# 入力データと正解データ取得\n",
        "x_org, y_org = iris.data, iris.target\n",
        "\n",
        "# 結果確認\n",
        "print('元データ', x_org.shape, y_org.shape)\n",
        "\n",
        "# データ絞り込み\n",
        "#  クラス0,1のみ\n",
        "#  項目 sepal_lengthとsepal_widthのみ\n",
        "x_data = iris.data[:100, :2]\n",
        "y_data = iris.target[:100]\n",
        "\n",
        "# 結果確認\n",
        "print('対象データ', x_data.shape, y_data.shape)\n",
        "\n",
        "# 訓練データ、検証データに分割（シャッフルも同時に実施）\n",
        "from sklearn.model_selection import train_test_split\n",
        "x_train, x_test, y_train, y_test = train_test_split(\n",
        "    x_data, y_data, train_size=70, test_size=30,\n",
        "    random_state=123\n",
        ")\n",
        "print(x_train.shape, x_test.shape, y_train.shape, y_test.shape)\n",
        "\n",
        "# # 散布図の表示（教師データ）\n",
        "# x_e0 = x_test[y_test == 0]\n",
        "# x_e1 = x_test[y_test == 1]\n",
        "# plt.scatter(x_e0[:,0], x_e0[:,1], marker='x', c='b', label='0(setosa)')\n",
        "# plt.scatter(x_e1[:,0], x_e1[:,1], marker='o', c='k', label='1(versicolor)')\n",
        "# plt.xlabel('sepal_length')\n",
        "# plt.ylabel('sepal_width')\n",
        "# plt.legend()\n",
        "# plt.show()\n",
        "\n",
        "###################################################\n",
        "# 強化学習\n",
        "###################################################\n",
        "lr = 0.001  # 学習率\n",
        "num_epochs = 5000 # 繰り返し回数\n",
        "num_history = 10 # 履歴採取タイミング\n",
        "\n",
        "# 学習データ\n",
        "inputs = torch.tensor(x_train).float()\n",
        "labels = torch.tensor(y_train).float().view(-1,1)\n",
        "\n",
        "# 検証データ\n",
        "inputs_t = torch.tensor(x_test).float()\n",
        "labels_t = torch.tensor(y_test).float().view(-1,1)\n",
        "\n",
        "# 予測計算クラス\n",
        "n_input = x_train.shape[1]\n",
        "n_output = 1\n",
        "class Net(torch.nn.Module):\n",
        "  # 初期化\n",
        "  def __init__(self, n_input, n_output):\n",
        "    super().__init__()\n",
        "    # 予測関数を生成\n",
        "    self.l1 = torch.nn.Linear(n_input, n_output) # 初段\n",
        "    # 重み、バイアスの初期値を設定\n",
        "    self.l1.weight.data.fill_(1.0)\n",
        "    self.l1.bias.data.fill_(1.0)\n",
        "\n",
        "    # 活性化関数\n",
        "    self.sig = torch.nn.Sigmoid()\n",
        "\n",
        "    # 関数合成\n",
        "    self.net = torch.nn.Sequential(\n",
        "        self.l1,\n",
        "        self.sig,\n",
        "    )\n",
        "\n",
        "  # 予測関数\n",
        "  def forward(self, inputs):\n",
        "    outputs = self.net(inputs)\n",
        "    return outputs\n",
        "\n",
        "# 予測計算オブジェクト\n",
        "net = Net(n_input, n_output)\n",
        "\n",
        "# 損失関数\n",
        "criterion = torch.nn.BCELoss()\n",
        "\n",
        "# 最適化関数\n",
        "optimizer = torch.optim.SGD(net.parameters(), lr=lr)\n",
        "\n",
        "# 記録用配列初期化\n",
        "history = np.zeros((0, 2))\n",
        "\n",
        "# 繰り返し処理\n",
        "for epoch in range(num_epochs):\n",
        "\n",
        "  # 予測計算\n",
        "  outputs = net(inputs)\n",
        "\n",
        "  # 損失計算\n",
        "  loss = criterion(outputs, labels)\n",
        "  if epoch == 0:\n",
        "    g = make_dot(loss, params = dict(net.named_parameters()))\n",
        "    display(g)\n",
        "\n",
        "  # 勾配計算\n",
        "  loss.backward()\n",
        "\n",
        "  # パラメータ調整＆勾配クリア\n",
        "  optimizer.step()\n",
        "  optimizer.zero_grad()\n",
        "\n",
        "  # 損失の保存（スカラー値の取得）\n",
        "  train_loss = loss.item()\n",
        "\n",
        "  # 予測データ（0 or 1）計算\n",
        "  predicted = torch.where(outputs < 0.5, 0, 1)\n",
        "\n",
        "  # 精度計算\n",
        "  train_acc = (predicted == labels).sum() / len(y_train)\n",
        "\n",
        "  # 学習曲線データの登録\n",
        "  if epoch % num_history == 0:\n",
        "    item = np.array([epoch, loss.item()])\n",
        "    history = np.vstack((history, item))\n",
        "\n",
        "#\n",
        "print(train_acc.item())\n",
        "\n",
        "# 学習曲線グラフ\n",
        "plt.plot(history[:,0], history[:,1], 'b')\n",
        "plt.xlabel('繰り返し回数')\n",
        "plt.ylabel('損失')\n",
        "plt.title('学習曲線（損失）')\n",
        "plt.show()\n",
        "\n",
        "# 散布図の表示（訓練データ）\n",
        "x_t0 = x_train[y_train == 0]\n",
        "x_t1 = x_train[y_train == 1]\n",
        "zero = np.zeros(x_t0.shape[0])\n",
        "data1 = go.Scatter3d(x=x_t0[:,0], y=x_t0[:,1], z=zero,\n",
        "                    mode='markers',\n",
        "                    marker=dict(size=3, color='blue', opacity=0.5),\n",
        "                    name='0(setosa)')\n",
        "data2 = go.Scatter3d(x=x_t1[:,0], y=x_t1[:,1], z=zero,\n",
        "                    mode='markers',\n",
        "                    marker=dict(size=3, color='red', opacity=0.5),\n",
        "                    name='1(versicolor)')\n",
        "# 予測平面グラフ\n",
        "x = np.outer(np.linspace(4.0, 7.0, 30), np.ones(30))\n",
        "y = np.outer(np.linspace(2.0, 4.5, 30), np.ones(30)).T\n",
        "w1 = net.l1.weight.data[0][0]\n",
        "w2 = net.l1.weight.data[0][1]\n",
        "b = net.l1.bias.data[0]\n",
        "z = w1 * x + w2 * y + b\n",
        "# data3 = go.Surface(x=x, y=y, z=z, opacity=0.5)\n",
        "# fig = go.Figure()\n",
        "# fig.add_trace(data1)\n",
        "# fig.add_trace(data2)\n",
        "# fig.add_trace(data3)\n",
        "# # X軸タイトルを指定\n",
        "# fig.update_xaxes(title=\"sepal_length\")\n",
        "# fig.update_yaxes(title=\"sepal_width\") # Y軸タイトルを指定\n",
        "# fig.update_layout(title=\"散布図（訓練データ）\") # グラフタイトルを設定\n",
        "# fig.update_layout(showlegend=True) # 凡例を強制的に表示（デフォルトでは複数系列あると表示）\n",
        "# fig.update_layout(width=1200, height=900) # 図の高さと幅を指定\n",
        "# fig.show()\n",
        "\n",
        "print(net.l1.weight)\n",
        "print(net.l1.bias)"
      ],
      "metadata": {
        "colab": {
          "base_uri": "https://localhost:8080/",
          "height": 1000
        },
        "id": "ufPD67gDmKkw",
        "outputId": "e298f42f-741f-45b9-9aea-7cc978ad2124"
      },
      "execution_count": 18,
      "outputs": [
        {
          "output_type": "stream",
          "name": "stdout",
          "text": [
            "元データ (150, 4) (150,)\n",
            "対象データ (100, 2) (100,)\n",
            "(70, 2) (30, 2) (70,) (30,)\n"
          ]
        },
        {
          "output_type": "display_data",
          "data": {
            "image/svg+xml": "<?xml version=\"1.0\" encoding=\"UTF-8\" standalone=\"no\"?>\n<!DOCTYPE svg PUBLIC \"-//W3C//DTD SVG 1.1//EN\"\n \"http://www.w3.org/Graphics/SVG/1.1/DTD/svg11.dtd\">\n<!-- Generated by graphviz version 2.43.0 (0)\n -->\n<!-- Title: %3 Pages: 1 -->\n<svg width=\"216pt\" height=\"391pt\"\n viewBox=\"0.00 0.00 216.00 391.00\" xmlns=\"http://www.w3.org/2000/svg\" xmlns:xlink=\"http://www.w3.org/1999/xlink\">\n<g id=\"graph0\" class=\"graph\" transform=\"scale(1 1) rotate(0) translate(4 387)\">\n<title>%3</title>\n<polygon fill=\"white\" stroke=\"transparent\" points=\"-4,4 -4,-387 212,-387 212,4 -4,4\"/>\n<!-- 135120082224544 -->\n<g id=\"node1\" class=\"node\">\n<title>135120082224544</title>\n<polygon fill=\"#caff70\" stroke=\"black\" points=\"130.5,-31 76.5,-31 76.5,0 130.5,0 130.5,-31\"/>\n<text text-anchor=\"middle\" x=\"103.5\" y=\"-7\" font-family=\"monospace\" font-size=\"10.00\"> ()</text>\n</g>\n<!-- 135120081067488 -->\n<g id=\"node2\" class=\"node\">\n<title>135120081067488</title>\n<polygon fill=\"lightgrey\" stroke=\"black\" points=\"193,-86 14,-86 14,-67 193,-67 193,-86\"/>\n<text text-anchor=\"middle\" x=\"103.5\" y=\"-74\" font-family=\"monospace\" font-size=\"10.00\">BinaryCrossEntropyBackward0</text>\n</g>\n<!-- 135120081067488&#45;&gt;135120082224544 -->\n<g id=\"edge8\" class=\"edge\">\n<title>135120081067488&#45;&gt;135120082224544</title>\n<path fill=\"none\" stroke=\"black\" d=\"M103.5,-66.79C103.5,-60.07 103.5,-50.4 103.5,-41.34\"/>\n<polygon fill=\"black\" stroke=\"black\" points=\"107,-41.19 103.5,-31.19 100,-41.19 107,-41.19\"/>\n</g>\n<!-- 135120081074784 -->\n<g id=\"node3\" class=\"node\">\n<title>135120081074784</title>\n<polygon fill=\"lightgrey\" stroke=\"black\" points=\"160,-141 47,-141 47,-122 160,-122 160,-141\"/>\n<text text-anchor=\"middle\" x=\"103.5\" y=\"-129\" font-family=\"monospace\" font-size=\"10.00\">SigmoidBackward0</text>\n</g>\n<!-- 135120081074784&#45;&gt;135120081067488 -->\n<g id=\"edge1\" class=\"edge\">\n<title>135120081074784&#45;&gt;135120081067488</title>\n<path fill=\"none\" stroke=\"black\" d=\"M103.5,-121.75C103.5,-114.8 103.5,-104.85 103.5,-96.13\"/>\n<polygon fill=\"black\" stroke=\"black\" points=\"107,-96.09 103.5,-86.09 100,-96.09 107,-96.09\"/>\n</g>\n<!-- 135120081064128 -->\n<g id=\"node4\" class=\"node\">\n<title>135120081064128</title>\n<polygon fill=\"lightgrey\" stroke=\"black\" points=\"154,-196 53,-196 53,-177 154,-177 154,-196\"/>\n<text text-anchor=\"middle\" x=\"103.5\" y=\"-184\" font-family=\"monospace\" font-size=\"10.00\">AddmmBackward0</text>\n</g>\n<!-- 135120081064128&#45;&gt;135120081074784 -->\n<g id=\"edge2\" class=\"edge\">\n<title>135120081064128&#45;&gt;135120081074784</title>\n<path fill=\"none\" stroke=\"black\" d=\"M103.5,-176.75C103.5,-169.8 103.5,-159.85 103.5,-151.13\"/>\n<polygon fill=\"black\" stroke=\"black\" points=\"107,-151.09 103.5,-141.09 100,-151.09 107,-151.09\"/>\n</g>\n<!-- 135120080662640 -->\n<g id=\"node5\" class=\"node\">\n<title>135120080662640</title>\n<polygon fill=\"lightgrey\" stroke=\"black\" points=\"101,-251 0,-251 0,-232 101,-232 101,-251\"/>\n<text text-anchor=\"middle\" x=\"50.5\" y=\"-239\" font-family=\"monospace\" font-size=\"10.00\">AccumulateGrad</text>\n</g>\n<!-- 135120080662640&#45;&gt;135120081064128 -->\n<g id=\"edge3\" class=\"edge\">\n<title>135120080662640&#45;&gt;135120081064128</title>\n<path fill=\"none\" stroke=\"black\" d=\"M59.25,-231.75C66.97,-224.03 78.4,-212.6 87.72,-203.28\"/>\n<polygon fill=\"black\" stroke=\"black\" points=\"90.31,-205.64 94.91,-196.09 85.36,-200.69 90.31,-205.64\"/>\n</g>\n<!-- 135120080817280 -->\n<g id=\"node6\" class=\"node\">\n<title>135120080817280</title>\n<polygon fill=\"lightblue\" stroke=\"black\" points=\"80,-317 21,-317 21,-287 80,-287 80,-317\"/>\n<text text-anchor=\"middle\" x=\"50.5\" y=\"-305\" font-family=\"monospace\" font-size=\"10.00\">l1.bias</text>\n<text text-anchor=\"middle\" x=\"50.5\" y=\"-294\" font-family=\"monospace\" font-size=\"10.00\"> (1)</text>\n</g>\n<!-- 135120080817280&#45;&gt;135120080662640 -->\n<g id=\"edge4\" class=\"edge\">\n<title>135120080817280&#45;&gt;135120080662640</title>\n<path fill=\"none\" stroke=\"black\" d=\"M50.5,-286.84C50.5,-279.21 50.5,-269.7 50.5,-261.45\"/>\n<polygon fill=\"black\" stroke=\"black\" points=\"54,-261.27 50.5,-251.27 47,-261.27 54,-261.27\"/>\n</g>\n<!-- 135120080661200 -->\n<g id=\"node7\" class=\"node\">\n<title>135120080661200</title>\n<polygon fill=\"lightgrey\" stroke=\"black\" points=\"196,-251 119,-251 119,-232 196,-232 196,-251\"/>\n<text text-anchor=\"middle\" x=\"157.5\" y=\"-239\" font-family=\"monospace\" font-size=\"10.00\">TBackward0</text>\n</g>\n<!-- 135120080661200&#45;&gt;135120081064128 -->\n<g id=\"edge5\" class=\"edge\">\n<title>135120080661200&#45;&gt;135120081064128</title>\n<path fill=\"none\" stroke=\"black\" d=\"M148.58,-231.75C140.72,-224.03 129.07,-212.6 119.58,-203.28\"/>\n<polygon fill=\"black\" stroke=\"black\" points=\"121.84,-200.6 112.25,-196.09 116.94,-205.59 121.84,-200.6\"/>\n</g>\n<!-- 135120080659568 -->\n<g id=\"node8\" class=\"node\">\n<title>135120080659568</title>\n<polygon fill=\"lightgrey\" stroke=\"black\" points=\"208,-311.5 107,-311.5 107,-292.5 208,-292.5 208,-311.5\"/>\n<text text-anchor=\"middle\" x=\"157.5\" y=\"-299.5\" font-family=\"monospace\" font-size=\"10.00\">AccumulateGrad</text>\n</g>\n<!-- 135120080659568&#45;&gt;135120080661200 -->\n<g id=\"edge6\" class=\"edge\">\n<title>135120080659568&#45;&gt;135120080661200</title>\n<path fill=\"none\" stroke=\"black\" d=\"M157.5,-292.37C157.5,-284.25 157.5,-271.81 157.5,-261.39\"/>\n<polygon fill=\"black\" stroke=\"black\" points=\"161,-261.17 157.5,-251.17 154,-261.17 161,-261.17\"/>\n</g>\n<!-- 135120080818080 -->\n<g id=\"node9\" class=\"node\">\n<title>135120080818080</title>\n<polygon fill=\"lightblue\" stroke=\"black\" points=\"193,-383 122,-383 122,-353 193,-353 193,-383\"/>\n<text text-anchor=\"middle\" x=\"157.5\" y=\"-371\" font-family=\"monospace\" font-size=\"10.00\">l1.weight</text>\n<text text-anchor=\"middle\" x=\"157.5\" y=\"-360\" font-family=\"monospace\" font-size=\"10.00\"> (1, 2)</text>\n</g>\n<!-- 135120080818080&#45;&gt;135120080659568 -->\n<g id=\"edge7\" class=\"edge\">\n<title>135120080818080&#45;&gt;135120080659568</title>\n<path fill=\"none\" stroke=\"black\" d=\"M157.5,-352.8C157.5,-343.7 157.5,-331.79 157.5,-321.9\"/>\n<polygon fill=\"black\" stroke=\"black\" points=\"161,-321.84 157.5,-311.84 154,-321.84 161,-321.84\"/>\n</g>\n</g>\n</svg>\n",
            "text/plain": [
              "<graphviz.graphs.Digraph at 0x7ae4186f3800>"
            ]
          },
          "metadata": {}
        },
        {
          "output_type": "stream",
          "name": "stdout",
          "text": [
            "1.0\n"
          ]
        },
        {
          "output_type": "display_data",
          "data": {
            "text/plain": [
              "<Figure size 640x480 with 1 Axes>"
            ],
            "image/png": "[encoded data removed]"
          },
          "metadata": {}
        },
        {
          "output_type": "stream",
          "name": "stdout",
          "text": [
            "Parameter containing:\n",
            "tensor([[ 0.3278, -0.7877]], requires_grad=True)\n",
            "Parameter containing:\n",
            "tensor([0.7028], requires_grad=True)\n"
          ]
        }
      ]
    }
  ]
}
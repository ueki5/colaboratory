{
  "nbformat": 4,
  "nbformat_minor": 0,
  "metadata": {
    "colab": {
      "provenance": [],
      "authorship_tag": "ABX9TyMs195rSbcjrwFyjyZWRoYO",
      "include_colab_link": true
    },
    "kernelspec": {
      "name": "python3",
      "display_name": "Python 3"
    },
    "language_info": {
      "name": "python"
    }
  },
  "cells": [
    {
      "cell_type": "markdown",
      "metadata": {
        "id": "view-in-github",
        "colab_type": "text"
      },
      "source": [
        "<a href=\"https://colab.research.google.com/github/ueki5/colaboratory/blob/main/playground-015.ipynb\" target=\"_parent\"><img src=\"https://colab.research.google.com/assets/colab-badge.svg\" alt=\"Open In Colab\"/></a>"
      ]
    },
    {
      "cell_type": "code",
      "execution_count": null,
      "metadata": {
        "id": "teUVqnbXqf4F"
      },
      "outputs": [],
      "source": [
        "import numpy as np\n",
        "from matplotlib import pyplot as plt\n",
        "import tkinter as tk\n",
        "from matplotlib.backends.backend_tkagg import (\n",
        "    FigureCanvasTkAgg, NavigationToolbar2Tk)\n",
        "import matplotlib.colors\n",
        "\n",
        "root = tk.Tk()#ウインドの作成\n",
        "root.title(\"3次元グラフの表示テスト\")#ウインドのタイトル\n",
        "root.geometry(\"800x800\") #ウインドの大きさ\n",
        "\n",
        "# データを用意する\n",
        "x = np.arange(-10, 10, 0.1) # x軸を作成\n",
        "y = np.arange(-10, 10, 0.1) # y軸を作成\n",
        "X, Y = np.meshgrid(x, y)    # グリッドデータの作成\n",
        "Z=np.sqrt((np.square(X)+np.square(Y))) #Z軸を作成\n",
        "\n",
        "# フォントの種類とサイズを設定する。\n",
        "plt.rcParams['font.size'] = 15\n",
        "plt.rcParams['font.family'] = 'Arial'\n",
        "\n",
        "# グラフの入れ物を用意する。\n",
        "fig = plt.figure()\n",
        "ax1 = fig.add_subplot(111, projection='3d')\n",
        "\n",
        "# 軸のラベルを設定する。\n",
        "ax1.set_xlabel('x', labelpad=10)\n",
        "ax1.set_ylabel('y', labelpad=10)\n",
        "ax1.set_zlabel('z', labelpad=10)\n",
        "\n",
        "# データプロットする。\n",
        "ax=ax1.plot_surface(X, Y, Z, cmap='jet',label=\"z\")\n",
        "\n",
        "#カラーバーの設定\n",
        "cbar = fig.colorbar(ax, shrink = 0.6)\n",
        "cbar.set_label(\"Z\", fontsize=15)\n",
        "\n",
        "# グラフを表示する。\n",
        "#tkinterのウインド上部にグラフを表示する\n",
        "canvas = FigureCanvasTkAgg(fig, master=root)\n",
        "canvas.draw()\n",
        "canvas.get_tk_widget().pack(side=tk.TOP, fill=tk.BOTH, expand=1)\n",
        "\n",
        "#tkinterのウインド下部にツールを追加する\n",
        "toolbar = NavigationToolbar2Tk(canvas, root)\n",
        "toolbar.update()\n",
        "canvas.get_tk_widget().pack(side=tk.TOP, fill=tk.BOTH, expand=1)\n",
        "\n",
        "root.mainloop()"
      ]
    }
  ]
}
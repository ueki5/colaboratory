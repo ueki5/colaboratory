{
  "nbformat": 4,
  "nbformat_minor": 0,
  "metadata": {
    "colab": {
      "provenance": [],
      "authorship_tag": "ABX9TyMz2s7BC9yWSfmbePME+Nk2",
      "include_colab_link": true
    },
    "kernelspec": {
      "name": "python3",
      "display_name": "Python 3"
    },
    "language_info": {
      "name": "python"
    },
    "widgets": {
      "application/vnd.jupyter.widget-state+json": {
        "ab893d1099ef4d6d994d7d9b74ab363d": {
          "model_module": "@jupyter-widgets/output",
          "model_name": "OutputModel",
          "model_module_version": "1.0.0",
          "state": {
            "_dom_classes": [],
            "_model_module": "@jupyter-widgets/output",
            "_model_module_version": "1.0.0",
            "_model_name": "OutputModel",
            "_view_count": null,
            "_view_module": "@jupyter-widgets/output",
            "_view_module_version": "1.0.0",
            "_view_name": "OutputView",
            "layout": "IPY_MODEL_08b53dc65929496ea8d53b806122a0bb",
            "msg_id": "",
            "outputs": [
              {
                "output_type": "display_data",
                "data": {
                  "text/plain": "Plot(antialias=3, axes=['x', 'y', 'z'], axes_helper=1.0, axes_helper_colors=[16711680, 65280, 255], background…",
                  "application/vnd.jupyter.widget-view+json": {
                    "version_major": 2,
                    "version_minor": 0,
                    "model_id": "ffe943ccef80498caacef2e1335c1fd6"
                  }
                },
                "metadata": {}
              }
            ],
            "tabbable": null,
            "tooltip": null
          }
        },
        "ffe943ccef80498caacef2e1335c1fd6": {
          "model_module": "k3d",
          "model_name": "PlotModel",
          "model_module_version": "2.17.0",
          "state": {
            "_backend_version": "2.17.0",
            "_dom_classes": [],
            "_model_module": "k3d",
            "_model_module_version": "2.17.0",
            "_model_name": "PlotModel",
            "_view_count": null,
            "_view_module": "k3d",
            "_view_module_version": "2.17.0",
            "_view_name": "PlotView",
            "additional_js_code": "",
            "antialias": 3,
            "auto_rendering": true,
            "axes": [
              "x",
              "y",
              "z"
            ],
            "axes_helper": 1,
            "axes_helper_colors": [
              16711680,
              65280,
              255
            ],
            "background_color": 16777215,
            "camera": [],
            "camera_animation": [],
            "camera_auto_fit": true,
            "camera_damping_factor": 0,
            "camera_fov": 60,
            "camera_mode": "trackball",
            "camera_no_pan": false,
            "camera_no_rotate": false,
            "camera_no_zoom": false,
            "camera_pan_speed": 0.3,
            "camera_rotate_speed": 1,
            "camera_up_axis": "none",
            "camera_zoom_speed": 1.2,
            "clipping_planes": [],
            "colorbar_object_id": -1,
            "colorbar_scientific": false,
            "custom_data": null,
            "depth_peels": 0,
            "fps": 25,
            "fps_meter": false,
            "grid": [
              -1,
              -1,
              -1,
              1,
              1,
              1
            ],
            "grid_auto_fit": true,
            "grid_color": 15132390,
            "grid_visible": true,
            "height": 512,
            "hidden_object_ids": [],
            "label_color": 4473924,
            "layout": "IPY_MODEL_b04eceebe3394ed99c8fa2f59d1c8e39",
            "lighting": 1.5,
            "logarithmic_depth_buffer": true,
            "manipulate_mode": "translate",
            "menu_visibility": true,
            "minimum_fps": -1,
            "mode": "view",
            "name": null,
            "object_ids": [
              134866479951808
            ],
            "rendering_steps": 1,
            "screenshot": "",
            "screenshot_scale": 2,
            "slice_viewer_direction": "z",
            "slice_viewer_mask_object_ids": [],
            "slice_viewer_object_id": -1,
            "snapshot": "",
            "snapshot_type": "full",
            "tabbable": null,
            "time": 0,
            "time_speed": 1,
            "tooltip": null,
            "voxel_paint_color": 0
          }
        },
        "08b53dc65929496ea8d53b806122a0bb": {
          "model_module": "@jupyter-widgets/base",
          "model_name": "LayoutModel",
          "model_module_version": "2.0.0",
          "state": {
            "_model_module": "@jupyter-widgets/base",
            "_model_module_version": "2.0.0",
            "_model_name": "LayoutModel",
            "_view_count": null,
            "_view_module": "@jupyter-widgets/base",
            "_view_module_version": "2.0.0",
            "_view_name": "LayoutView",
            "align_content": null,
            "align_items": null,
            "align_self": null,
            "border_bottom": null,
            "border_left": null,
            "border_right": null,
            "border_top": null,
            "bottom": null,
            "display": null,
            "flex": null,
            "flex_flow": null,
            "grid_area": null,
            "grid_auto_columns": null,
            "grid_auto_flow": null,
            "grid_auto_rows": null,
            "grid_column": null,
            "grid_gap": null,
            "grid_row": null,
            "grid_template_areas": null,
            "grid_template_columns": null,
            "grid_template_rows": null,
            "height": null,
            "justify_content": null,
            "justify_items": null,
            "left": null,
            "margin": null,
            "max_height": null,
            "max_width": null,
            "min_height": null,
            "min_width": null,
            "object_fit": null,
            "object_position": null,
            "order": null,
            "overflow": null,
            "padding": null,
            "right": null,
            "top": null,
            "visibility": null,
            "width": null
          }
        }
      }
    }
  },
  "cells": [
    {
      "cell_type": "markdown",
      "metadata": {
        "id": "view-in-github",
        "colab_type": "text"
      },
      "source": [
        "<a href=\"https://colab.research.google.com/github/ueki5/colaboratory/blob/main/playground-015.ipynb\" target=\"_parent\"><img src=\"https://colab.research.google.com/assets/colab-badge.svg\" alt=\"Open In Colab\"/></a>"
      ]
    },
    {
      "cell_type": "code",
      "source": [
        "!pip install plotly | tail -n 1\n",
        "!pip install open3d | tail -n 1\n",
        "!pip install k3d | tail -n 1\n"
      ],
      "metadata": {
        "id": "7xmis4zXrVKs",
        "outputId": "57db4a50-98e1-481c-ca29-56c94cc82d69",
        "colab": {
          "base_uri": "https://localhost:8080/"
        }
      },
      "execution_count": 4,
      "outputs": [
        {
          "output_type": "stream",
          "name": "stdout",
          "text": [
            "Requirement already satisfied: packaging in /usr/local/lib/python3.12/dist-packages (from plotly) (25.0)\n",
            "Successfully installed addict-2.4.0 comm-0.2.3 configargparse-1.7.1 dash-3.2.0 ipywidgets-8.1.7 jedi-0.19.2 open3d-0.19.0 pyquaternion-0.9.9 retrying-1.4.2 widgetsnbextension-4.0.14\n",
            "Successfully installed deepcomparer-0.4.0 k3d-2.17.0\n"
          ]
        }
      ]
    },
    {
      "cell_type": "code",
      "execution_count": 9,
      "metadata": {
        "id": "teUVqnbXqf4F",
        "outputId": "29ea3e71-7268-4fad-bdcd-b64cda67732b",
        "colab": {
          "base_uri": "https://localhost:8080/",
          "height": 91,
          "referenced_widgets": [
            "ab893d1099ef4d6d994d7d9b74ab363d",
            "ffe943ccef80498caacef2e1335c1fd6",
            "08b53dc65929496ea8d53b806122a0bb"
          ]
        }
      },
      "outputs": [
        {
          "output_type": "stream",
          "name": "stderr",
          "text": [
            "/usr/local/lib/python3.12/dist-packages/traittypes/traittypes.py:98: UserWarning:\n",
            "\n",
            "Given trait value dtype \"float64\" does not match required type \"float32\". A coerced copy has been created.\n",
            "\n"
          ]
        },
        {
          "output_type": "display_data",
          "data": {
            "text/plain": [
              "Output()"
            ],
            "application/vnd.jupyter.widget-view+json": {
              "version_major": 2,
              "version_minor": 0,
              "model_id": "ab893d1099ef4d6d994d7d9b74ab363d"
            }
          },
          "metadata": {}
        }
      ],
      "source": [
        "import numpy as np\n",
        "import random\n",
        "import matplotlib.pyplot as plt\n",
        "import plotly.express as px\n",
        "import open3d as o3d\n",
        "import k3d\n",
        "\n",
        "def get_ball(num_points,r):\n",
        "    point_cloud = []\n",
        "    for i in range(num_points):\n",
        "        t = random.random()\n",
        "        t = np.arcsin(1-2*t)\n",
        "        u= random.random() * 2 *np.pi-np.pi\n",
        "        x = np.cos(t)*np.cos(u)*r\n",
        "        y = np.cos(t)*np.sin(u)*r\n",
        "        z= np.sin(t)*r\n",
        "        point_cloud.append([x, y, z])\n",
        "    return np.array(point_cloud)\n",
        "\n",
        "#点群作成\n",
        "num_points=1000\n",
        "r=0.5\n",
        "test_data=get_ball(num_points,r)\n",
        "\n",
        "\n",
        "# # matplotlibで可視化\n",
        "# fig = plt.figure(figsize = (8, 8))\n",
        "# ax= fig.add_subplot(111, projection='3d')\n",
        "# ax.scatter(test_data[:,0],test_data[:,1],test_data[:,2], s = 1, c = \"blue\")\n",
        "# plt.show()\n",
        "\n",
        "# # plotlyで可視化\n",
        "# fig=px.scatter_3d( x=test_data[:,0],y=test_data[:,1], z=test_data[:,2])\n",
        "# fig.update_traces (marker={ 'size': 1})\n",
        "# fig.show()\n",
        "\n",
        "# # Open3dで可視化（×動かない）\n",
        "# pcd=o3d.geometry.PointCloud()\n",
        "# pcd.points = o3d. utility.Vector3dVector(test_data)\n",
        "# o3d.visualization.draw_geometries([pcd])\n",
        "\n",
        "# # Open3dで可視化(GoogleColab)\n",
        "# pcd=o3d.geometry.PointCloud()\n",
        "# pcd.points = o3d. utility.Vector3dVector(test_data)\n",
        "# o3d.visualization.draw_plotly([pcd])\n",
        "\n",
        "# k3dで可視化（×動かない）\n",
        "plot=k3d.plot(camera_auto_fit=True)\n",
        "point_size=0.01\n",
        "plot+=k3d.points(test_data[:,:3],point_size=point_size,shader=\"3d\",color=0x0000ff)\n",
        "plot.display()"
      ]
    }
  ]
}
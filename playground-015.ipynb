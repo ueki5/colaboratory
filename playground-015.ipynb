{
  "nbformat": 4,
  "nbformat_minor": 0,
  "metadata": {
    "colab": {
      "provenance": [],
      "authorship_tag": "ABX9TyOSSffncvmAZLxZLMwScTaU",
      "include_colab_link": true
    },
    "kernelspec": {
      "name": "python3",
      "display_name": "Python 3"
    },
    "language_info": {
      "name": "python"
    }
  },
  "cells": [
    {
      "cell_type": "markdown",
      "metadata": {
        "id": "view-in-github",
        "colab_type": "text"
      },
      "source": [
        "<a href=\"https://colab.research.google.com/github/ueki5/colaboratory/blob/main/playground-015.ipynb\" target=\"_parent\"><img src=\"https://colab.research.google.com/assets/colab-badge.svg\" alt=\"Open In Colab\"/></a>"
      ]
    },
    {
      "cell_type": "code",
      "source": [
        "!pip install plotly | tail -n 1\n",
        "!pip install open3d | tail -n 1\n",
        "!pip install k3d | tail -n 1\n",
        "import numpy as np\n",
        "import random\n",
        "# import matplotlib.pyplot as plt\n",
        "import plotly.express as px\n",
        "# import open3d as o3d\n",
        "# import k3d\n",
        "\n",
        "def get_ball(num_points,r):\n",
        "    point_cloud = []\n",
        "    for i in range(num_points):\n",
        "        t = random.random()\n",
        "        t = np.arcsin(1-2*t)\n",
        "        u= random.random() * 2 *np.pi-np.pi\n",
        "        x = np.cos(t)*np.cos(u)*r\n",
        "        y = np.cos(t)*np.sin(u)*r\n",
        "        z= np.sin(t)*r\n",
        "        point_cloud.append([x, y, z])\n",
        "    return np.array(point_cloud)\n",
        "\n",
        "#点群作成\n",
        "num_points=1000\n",
        "r=0.5\n",
        "test_data=get_ball(num_points,r)\n",
        "\n",
        "\n",
        "# # matplotlibで可視化（△動作するが視点移動させられない）\n",
        "# fig = plt.figure(figsize = (8, 8))\n",
        "# ax= fig.add_subplot(111, projection='3d')\n",
        "# ax.scatter(test_data[:,0],test_data[:,1],test_data[:,2], s = 1, c = \"blue\")\n",
        "# plt.show()\n",
        "\n",
        "# plotlyで可視化\n",
        "fig=px.scatter_3d( x=test_data[:,0],y=test_data[:,1], z=test_data[:,2])\n",
        "fig.update_traces (marker={ 'size': 1})\n",
        "fig.show()\n",
        "\n",
        "# # Open3dで可視化（×動かない）\n",
        "# pcd=o3d.geometry.PointCloud()\n",
        "# pcd.points = o3d. utility.Vector3dVector(test_data)\n",
        "# o3d.visualization.draw_geometries([pcd])\n",
        "\n",
        "# # Open3dで可視化(GoogleColab)\n",
        "# pcd=o3d.geometry.PointCloud()\n",
        "# pcd.points = o3d. utility.Vector3dVector(test_data)\n",
        "# o3d.visualization.draw_plotly([pcd])\n",
        "\n",
        "# # k3dで可視化（×動かない）\n",
        "# plot=k3d.plot(camera_auto_fit=True)\n",
        "# point_size=0.01\n",
        "# plot+=k3d.points(test_data[:,:3],point_size=point_size,shader=\"3d\",color=0x0000ff)\n",
        "# plot.display()\n"
      ],
      "metadata": {
        "colab": {
          "base_uri": "https://localhost:8080/"
        },
        "id": "7xmis4zXrVKs",
        "outputId": "57db4a50-98e1-481c-ca29-56c94cc82d69"
      },
      "execution_count": 4,
      "outputs": [
        {
          "output_type": "stream",
          "name": "stdout",
          "text": [
            "Requirement already satisfied: packaging in /usr/local/lib/python3.12/dist-packages (from plotly) (25.0)\n",
            "Successfully installed addict-2.4.0 comm-0.2.3 configargparse-1.7.1 dash-3.2.0 ipywidgets-8.1.7 jedi-0.19.2 open3d-0.19.0 pyquaternion-0.9.9 retrying-1.4.2 widgetsnbextension-4.0.14\n",
            "Successfully installed deepcomparer-0.4.0 k3d-2.17.0\n"
          ]
        }
      ]
    }
  ]
}
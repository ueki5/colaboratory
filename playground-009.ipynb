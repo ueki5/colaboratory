{
  "nbformat": 4,
  "nbformat_minor": 0,
  "metadata": {
    "colab": {
      "provenance": [],
      "include_colab_link": true
    },
    "kernelspec": {
      "name": "python3",
      "display_name": "Python 3"
    },
    "language_info": {
      "name": "python"
    }
  },
  "cells": [
    {
      "cell_type": "markdown",
      "metadata": {
        "id": "view-in-github",
        "colab_type": "text"
      },
      "source": [
        "<a href=\"https://colab.research.google.com/github/ueki5/colaboratory/blob/main/playground-009.ipynb\" target=\"_parent\"><img src=\"https://colab.research.google.com/assets/colab-badge.svg\" alt=\"Open In Colab\"/></a>"
      ]
    },
    {
      "cell_type": "code",
      "execution_count": 3,
      "metadata": {
        "id": "3V3opdcE4f0V",
        "outputId": "cabd5048-b37a-421a-d4e4-ca0951f19ad8",
        "colab": {
          "base_uri": "https://localhost:8080/"
        }
      },
      "outputs": [
        {
          "output_type": "stream",
          "name": "stdout",
          "text": [
            "Successfully installed japanize_matplotlib-1.1.3\n",
            "Successfully installed torchviz-0.0.3\n",
            "Setting up tree (2.0.2-1) ...\n"
          ]
        }
      ],
      "source": [
        "# 必要ライブラリ・コマンドの導入\n",
        "!pip install japanize_matplotlib | tail -n 1\n",
        "!pip install torchviz | tail -n 1\n",
        "w = !apt install tree\n",
        "print(w[-2])"
      ]
    },
    {
      "cell_type": "code",
      "source": [
        "import torch\n",
        "# レイヤー関数定義\n",
        "\n",
        "# 最初の線形関数\n",
        "# 784 入力数\n",
        "# 128 出力数\n",
        "l1 = torch.nn.Linear(784, 128)\n",
        "\n",
        "# ２番目の線形関数\n",
        "# 128 入力数\n",
        "#  10 出力数\n",
        "l2 = torch.nn.Linear(128, 10)\n",
        "\n",
        "# 活性化関数\n",
        "relu = torch.nn.ReLU(inplace=True)\n",
        "\n",
        "\n"
      ],
      "metadata": {
        "id": "Oly311vkIoLq"
      },
      "execution_count": 4,
      "outputs": []
    },
    {
      "cell_type": "code",
      "source": [
        "# 入力テンソルから出力テンソルを計算\n",
        "\n",
        "# ダミー入力データを作成\n",
        "inputs = torch.randn(100, 784)\n",
        "\n",
        "# 中間テンソル1の計算\n",
        "m1 = l1(inputs)\n",
        "\n",
        "# 中間テンソル2の計算\n",
        "m2 = relu(m1)\n",
        "\n",
        "# 出力テンソルの計算\n",
        "outputs = l2(m2)\n",
        "\n",
        "# 入力テンソルと出力テンソルのshape確認\n",
        "print(f'inputs:{inputs.shape}')\n",
        "print(f'm1:{m1.shape}')\n",
        "print(f'm2:{m2.shape}')\n",
        "print(f'出力テンソル:{outputs.shape}')\n",
        "\n"
      ],
      "metadata": {
        "colab": {
          "base_uri": "https://localhost:8080/"
        },
        "id": "7v8xxBMkJ5b8",
        "outputId": "8607e148-1ef6-49b2-9fea-e197f782f9f0"
      },
      "execution_count": 5,
      "outputs": [
        {
          "output_type": "stream",
          "name": "stdout",
          "text": [
            "inputs:torch.Size([100, 784])\n",
            "m1:torch.Size([100, 128])\n",
            "m2:torch.Size([100, 128])\n",
            "出力テンソル:torch.Size([100, 10])\n"
          ]
        }
      ]
    },
    {
      "cell_type": "code",
      "source": [
        "#nn.Sequentialを使って、全体を合成関数として定義\n",
        "net2 = torch.nn.Sequential(\n",
        "    l1,\n",
        "    relu,\n",
        "    l2\n",
        ")\n",
        "\n",
        "output2 = net2(inputs)\n",
        "\n",
        "# 入力テンソルと出力テンソルのshape\n",
        "print(f'入力テンソル:{inputs.shape}')\n",
        "print(f'出力テンソル:{output2.shape}')\n"
      ],
      "metadata": {
        "colab": {
          "base_uri": "https://localhost:8080/"
        },
        "id": "xVSM7KRkNSdL",
        "outputId": "5cfc105b-3f26-4862-b5d3-84734d3f5d9e"
      },
      "execution_count": 6,
      "outputs": [
        {
          "output_type": "stream",
          "name": "stdout",
          "text": [
            "入力テンソル:torch.Size([100, 784])\n",
            "出力テンソル:torch.Size([100, 10])\n"
          ]
        }
      ]
    },
    {
      "cell_type": "code",
      "source": [
        "import numpy as np\n",
        "\n",
        "np.random.seed(123)\n",
        "def calc_result(x):\n",
        "  return x**2 + np.random.randn(100,1)*0.1\n",
        "x = np.random.randn(100, 1)\n",
        "y = calc_result(x)\n",
        "# print(x)\n",
        "# print(y)\n",
        "\n",
        "x_train = x[  :50, :]\n",
        "x_test  = x[50:  , :]\n",
        "y_train = y[  :50, :]\n",
        "y_test  = y[50:  , :]\n",
        "\n"
      ],
      "metadata": {
        "colab": {
          "base_uri": "https://localhost:8080/"
        },
        "id": "TKns2Y1Ni1xM",
        "outputId": "096e9fd4-5020-4a04-8ed2-154eca5c76fd"
      },
      "execution_count": 11,
      "outputs": [
        {
          "output_type": "stream",
          "name": "stdout",
          "text": [
            "[[-1.0856306 ]\n",
            " [ 0.99734545]\n",
            " [ 0.2829785 ]\n",
            " [-1.50629471]\n",
            " [-0.57860025]\n",
            " [ 1.65143654]\n",
            " [-2.42667924]\n",
            " [-0.42891263]\n",
            " [ 1.26593626]\n",
            " [-0.8667404 ]\n",
            " [-0.67888615]\n",
            " [-0.09470897]\n",
            " [ 1.49138963]\n",
            " [-0.638902  ]\n",
            " [-0.44398196]\n",
            " [-0.43435128]\n",
            " [ 2.20593008]\n",
            " [ 2.18678609]\n",
            " [ 1.0040539 ]\n",
            " [ 0.3861864 ]\n",
            " [ 0.73736858]\n",
            " [ 1.49073203]\n",
            " [-0.93583387]\n",
            " [ 1.17582904]\n",
            " [-1.25388067]\n",
            " [-0.6377515 ]\n",
            " [ 0.9071052 ]\n",
            " [-1.4286807 ]\n",
            " [-0.14006872]\n",
            " [-0.8617549 ]\n",
            " [-0.25561937]\n",
            " [-2.79858911]\n",
            " [-1.7715331 ]\n",
            " [-0.69987723]\n",
            " [ 0.92746243]\n",
            " [-0.17363568]\n",
            " [ 0.00284592]\n",
            " [ 0.68822271]\n",
            " [-0.87953634]\n",
            " [ 0.28362732]\n",
            " [-0.80536652]\n",
            " [-1.72766949]\n",
            " [-0.39089979]\n",
            " [ 0.57380586]\n",
            " [ 0.33858905]\n",
            " [-0.01183049]\n",
            " [ 2.39236527]\n",
            " [ 0.41291216]\n",
            " [ 0.97873601]\n",
            " [ 2.23814334]]\n"
          ]
        }
      ]
    }
  ]
}
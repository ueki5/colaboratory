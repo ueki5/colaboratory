{
  "nbformat": 4,
  "nbformat_minor": 0,
  "metadata": {
    "colab": {
      "provenance": [],
      "include_colab_link": true
    },
    "kernelspec": {
      "name": "python3",
      "display_name": "Python 3"
    },
    "language_info": {
      "name": "python"
    }
  },
  "cells": [
    {
      "cell_type": "markdown",
      "metadata": {
        "id": "view-in-github",
        "colab_type": "text"
      },
      "source": [
        "<a href=\"https://colab.research.google.com/github/ueki5/colaboratory/blob/main/playground-009.ipynb\" target=\"_parent\"><img src=\"https://colab.research.google.com/assets/colab-badge.svg\" alt=\"Open In Colab\"/></a>"
      ]
    },
    {
      "cell_type": "code",
      "execution_count": 169,
      "metadata": {
        "id": "3V3opdcE4f0V",
        "outputId": "fbdc1f1a-8d51-4daf-9849-c80dea23fa61",
        "colab": {
          "base_uri": "https://localhost:8080/"
        }
      },
      "outputs": [
        {
          "output_type": "stream",
          "name": "stdout",
          "text": [
            "Requirement already satisfied: six>=1.5 in /usr/local/lib/python3.12/dist-packages (from python-dateutil>=2.7->matplotlib->japanize_matplotlib) (1.17.0)\n",
            "Requirement already satisfied: MarkupSafe>=2.0 in /usr/local/lib/python3.12/dist-packages (from jinja2->torch->torchviz) (3.0.3)\n",
            "tree is already the newest version (2.0.2-1).\n"
          ]
        }
      ],
      "source": [
        "# 必要ライブラリ・コマンドの導入\n",
        "!pip install japanize_matplotlib | tail -n 1\n",
        "!pip install torchviz | tail -n 1\n",
        "w = !apt install tree\n",
        "print(w[-2])"
      ]
    },
    {
      "cell_type": "code",
      "source": [
        "import torch\n",
        "import numpy as np\n",
        "import matplotlib.pyplot as plt\n",
        "import japanize_matplotlib\n",
        "\n",
        "torch.manual_seed(123)\n",
        "def calc_result(x):\n",
        "  return x**2 + torch.randn(100,1)*0.1\n",
        "x = torch.randn(100, 1)\n",
        "y = calc_result(x)\n",
        "# print(x)\n",
        "# print(y)\n",
        "\n",
        "x_train = x[  :50, :]\n",
        "x_test  = x[50:  , :]\n",
        "y_train = y[  :50, :]\n",
        "y_test  = y[50:  , :]\n"
      ],
      "metadata": {
        "id": "TKns2Y1Ni1xM"
      },
      "execution_count": 170,
      "outputs": []
    },
    {
      "cell_type": "code",
      "source": [
        "# レイヤー関数定義\n",
        "\n",
        "# 中間層の次元数\n",
        "dimension=100\n",
        "\n",
        "# 予測関数\n",
        "l1 = torch.nn.Linear(1, dimension) # 初段\n",
        "l2 = torch.nn.Linear(dimension, dimension) # 中間層\n",
        "l3 = torch.nn.Linear(dimension, dimension) # 中間層\n",
        "l4 = torch.nn.Linear(dimension, 1) # 最終段\n",
        "\n",
        "# 活性化関数\n",
        "relu = torch.nn.ReLU(inplace=True)\n",
        "\n",
        "# 関数合成\n",
        "net = torch.nn.Sequential(\n",
        "    l1,\n",
        "    relu,\n",
        "    l2,\n",
        "    relu,\n",
        "    l3,\n",
        "    relu,\n",
        "    l4,\n",
        ")\n",
        "\n",
        "\n",
        "# ダミー入力データを作成\n",
        "inputs = torch.randn(100, 1)\n",
        "output = net(inputs)\n",
        "\n",
        "# 入力テンソルと出力テンソルのshape\n",
        "print(f'入力テンソル:{inputs.shape}')\n",
        "print(f'出力テンソル:{output.shape}')\n",
        "\n"
      ],
      "metadata": {
        "id": "eaXf_jeYrQpO",
        "colab": {
          "base_uri": "https://localhost:8080/"
        },
        "outputId": "5dc9ed53-a98b-4c21-b254-c70be63a8da7"
      },
      "execution_count": 171,
      "outputs": [
        {
          "output_type": "stream",
          "name": "stdout",
          "text": [
            "入力テンソル:torch.Size([100, 1])\n",
            "出力テンソル:torch.Size([100, 1])\n"
          ]
        }
      ]
    },
    {
      "cell_type": "code",
      "source": [
        "# 繰り返し制御\n",
        "num_epochs = 1000\n",
        "lr = 0.01\n",
        "momentum = 0.9\n",
        "\n",
        "# optimizerとしてSGD（確率的勾配降下法を指定する）\n",
        "import torch.optim as optim\n",
        "optimizer = optim.SGD([l1.weight, l1.bias], lr=lr, momentum=momentum)\n",
        "\n",
        "# 記録用配列初期化\n",
        "history = np.zeros((0, 2))\n",
        "\n",
        "# ループ処理\n",
        "def mse(Yp, Y):\n",
        "  loss = ((Yp - Y) ** 2).mean()\n",
        "  return loss\n",
        "\n",
        "for epoch in range(num_epochs):\n",
        "\n",
        "  # 予測計算\n",
        "  Yp = net(x_train)\n",
        "  # 損失計算\n",
        "  loss = mse(Yp, y_train)\n",
        "  # 勾配計算\n",
        "  loss.backward()\n",
        "  # パラメータ修正\n",
        "  optimizer.step()\n",
        "  # 勾配値初期化\n",
        "  optimizer.zero_grad()\n",
        "\n",
        "  # 損失の記録\n",
        "  if (epoch %10 == 0):\n",
        "    item = np.array([epoch, loss.item()])\n",
        "    history = np.vstack((history, item))\n",
        "    # print(f'epoch = {epoch}, loss = {loss:.4f}')\n"
      ],
      "metadata": {
        "id": "V0Tv-clIGK41"
      },
      "execution_count": 172,
      "outputs": []
    },
    {
      "cell_type": "code",
      "source": [
        "# 学習曲線の表示（損失）\n",
        "\n",
        "# for param in net.named_parameters():\n",
        "#   print(param)\n",
        "\n",
        "plt.plot(history[:, 0], history[:, 1], 'b', label=f'lr={lr}, momentum={momentum}')\n",
        "plt.xlabel('繰り返し回数')\n",
        "plt.ylabel('損失')\n",
        "plt.legend()\n",
        "plt.title('学習曲線（損失）')\n",
        "plt.show()\n",
        "\n",
        "# 訓練データ、検証データ、予測データの表示\n",
        "plt.scatter(x_train.data, y_train.data, c='b', label='training data')\n",
        "plt.scatter(x_test.data,  y_test.data,  c='k', label='test data', marker='x')\n",
        "plt.scatter(x_test.data, net(x_test).data, c='g', label='approximate', marker='+')\n",
        "\n",
        "plt.legend()\n",
        "plt.show()\n"
      ],
      "metadata": {
        "id": "g1BXZTXcE9Uf",
        "outputId": "54264a53-1237-44d0-cd46-9d3ac8f0ccc6",
        "colab": {
          "base_uri": "https://localhost:8080/",
          "height": 1000
        }
      },
      "execution_count": 173,
      "outputs": [
        {
          "output_type": "stream",
          "name": "stdout",
          "text": [
            "('0.weight', Parameter containing:\n",
            "tensor([[-1.6414e+00],\n",
            "        [-1.4777e-01],\n",
            "        [ 2.4926e-02],\n",
            "        [-1.3300e+00],\n",
            "        [ 3.6395e-01],\n",
            "        [-2.0099e-02],\n",
            "        [ 3.9010e-01],\n",
            "        [ 9.4815e-02],\n",
            "        [ 1.0779e+00],\n",
            "        [-6.5761e-04],\n",
            "        [-6.6466e-01],\n",
            "        [ 4.0150e-02],\n",
            "        [ 7.9047e-01],\n",
            "        [ 9.8342e-02],\n",
            "        [-3.2752e-01],\n",
            "        [-7.3053e-01],\n",
            "        [-6.9177e-04],\n",
            "        [ 5.8628e-01],\n",
            "        [-5.8182e-01],\n",
            "        [-1.1631e+00],\n",
            "        [ 2.5797e-01],\n",
            "        [-5.4902e-01],\n",
            "        [-3.8094e-02],\n",
            "        [-8.3985e-01],\n",
            "        [ 1.6797e-01],\n",
            "        [-1.9836e+00],\n",
            "        [ 1.5769e-01],\n",
            "        [ 1.4125e+00],\n",
            "        [ 1.5973e-04],\n",
            "        [ 6.5668e-01],\n",
            "        [-1.5626e+00],\n",
            "        [ 6.1405e-01],\n",
            "        [ 1.1235e-01],\n",
            "        [ 5.6826e-01],\n",
            "        [-3.2419e-02],\n",
            "        [-3.8454e-01],\n",
            "        [ 5.6028e-01],\n",
            "        [ 1.7028e-02],\n",
            "        [-4.1143e-01],\n",
            "        [ 7.0402e-01],\n",
            "        [ 3.4952e-01],\n",
            "        [-8.1479e-01],\n",
            "        [-2.0983e-01],\n",
            "        [-1.6707e+00],\n",
            "        [-1.0768e+00],\n",
            "        [-1.3495e+00],\n",
            "        [-7.2459e-01],\n",
            "        [-2.3044e+00],\n",
            "        [ 1.2376e+00],\n",
            "        [-3.8332e-01],\n",
            "        [ 1.9474e+00],\n",
            "        [-1.9921e-02],\n",
            "        [-7.6867e-02],\n",
            "        [ 3.3634e-01],\n",
            "        [ 3.2991e-01],\n",
            "        [-9.6872e-01],\n",
            "        [-3.4166e-01],\n",
            "        [-5.8052e-01],\n",
            "        [ 1.1590e-01],\n",
            "        [-1.0493e+00],\n",
            "        [ 4.5254e-01],\n",
            "        [-3.6424e-02],\n",
            "        [-8.7622e-01],\n",
            "        [ 3.3038e-01],\n",
            "        [-1.4693e-01],\n",
            "        [-1.3285e-01],\n",
            "        [ 4.2874e-01],\n",
            "        [ 1.0326e+00],\n",
            "        [-1.7471e-02],\n",
            "        [ 6.2329e-01],\n",
            "        [ 1.2110e+00],\n",
            "        [ 8.8031e-01],\n",
            "        [-8.2358e-01],\n",
            "        [ 5.9604e-02],\n",
            "        [-1.0349e+00],\n",
            "        [-1.4693e+00],\n",
            "        [-7.4673e-01],\n",
            "        [-2.1407e-01],\n",
            "        [ 1.0897e-01],\n",
            "        [ 4.7437e-01],\n",
            "        [-2.4600e-01],\n",
            "        [ 7.4414e-01],\n",
            "        [-4.3252e-01],\n",
            "        [ 2.1326e-01],\n",
            "        [-1.9187e-01],\n",
            "        [-9.8534e-01],\n",
            "        [ 6.9013e-02],\n",
            "        [-6.1449e-01],\n",
            "        [ 2.4978e-03],\n",
            "        [-4.8452e-02],\n",
            "        [ 4.3299e-01],\n",
            "        [ 4.3046e-01],\n",
            "        [ 1.2923e+00],\n",
            "        [-1.4713e+00],\n",
            "        [ 6.1085e-02],\n",
            "        [-1.3150e+00],\n",
            "        [-2.3869e-01],\n",
            "        [ 3.8657e-01],\n",
            "        [ 1.9998e-01],\n",
            "        [-1.4695e+00]], requires_grad=True))\n",
            "('0.bias', Parameter containing:\n",
            "tensor([ 0.0967,  1.0658, -0.0808,  0.4703, -0.6385, -0.5980,  0.4349,  0.0249,\n",
            "         0.2446, -0.0051, -0.4655, -0.8723, -0.9624, -0.1918, -0.5886,  0.4880,\n",
            "        -0.0046,  0.4202,  1.3184,  0.1572,  0.5747, -0.6406, -0.1348,  0.9573,\n",
            "        -0.5181,  1.2999, -0.3065,  0.3321, -0.0026,  0.6982,  0.2242, -0.1626,\n",
            "        -0.2148,  0.5420,  1.0243,  1.1181,  0.5235, -0.8701,  0.2499, -0.0579,\n",
            "         0.4870,  0.6166, -0.6050,  0.4057,  0.5761,  0.6317, -0.8164,  0.8323,\n",
            "         0.7846,  0.2388,  1.2048, -0.0796, -0.9592,  0.2859, -0.7874, -0.2035,\n",
            "        -0.2172,  0.4396,  0.0817,  0.3021, -0.7479, -0.1233,  0.6182, -0.6008,\n",
            "        -0.8685,  0.1231, -0.8169, -0.0720,  0.7980, -0.5024, -0.5630,  0.8554,\n",
            "        -0.2822, -0.1331,  1.4115,  0.0431,  1.0852,  0.1252,  0.4826,  0.3726,\n",
            "        -0.5487,  0.5392, -0.6718, -0.5826, -0.5637,  0.5464, -0.1327,  0.4193,\n",
            "        -0.0061, -0.1450,  0.3664, -0.8226, -0.4967, -0.4870,  0.0665,  1.5836,\n",
            "        -0.4401,  0.4387, -0.7145,  0.4208], requires_grad=True))\n",
            "('2.weight', Parameter containing:\n",
            "tensor([[-0.0006, -0.0290, -0.0485,  ...,  0.0155,  0.0574,  0.0771],\n",
            "        [ 0.0988, -0.0259,  0.0030,  ...,  0.0687,  0.0364,  0.0635],\n",
            "        [-0.0203, -0.0537,  0.0505,  ..., -0.0648,  0.0781,  0.0270],\n",
            "        ...,\n",
            "        [-0.0096, -0.0124, -0.0193,  ..., -0.0523,  0.0192,  0.0214],\n",
            "        [ 0.0897,  0.0696,  0.0968,  ..., -0.0852, -0.0017,  0.0143],\n",
            "        [-0.0086,  0.0129, -0.0550,  ...,  0.0998, -0.0031,  0.0589]],\n",
            "       requires_grad=True))\n",
            "('2.bias', Parameter containing:\n",
            "tensor([ 0.0314, -0.0643,  0.0593, -0.0453,  0.0338,  0.0227,  0.0352, -0.0953,\n",
            "        -0.0820,  0.0414,  0.0421, -0.0746, -0.0513,  0.0758, -0.0785, -0.0581,\n",
            "         0.0499,  0.0024,  0.0153, -0.0006, -0.0219, -0.0206, -0.0142, -0.0405,\n",
            "         0.0137, -0.0803, -0.0025,  0.0692, -0.0916,  0.0026,  0.0492, -0.0064,\n",
            "         0.0866, -0.0490,  0.0853, -0.0263, -0.0425, -0.0742,  0.0056, -0.0708,\n",
            "        -0.0566,  0.0121,  0.0522,  0.0253,  0.0545,  0.0667, -0.0960,  0.0632,\n",
            "         0.0036, -0.0120,  0.0789,  0.0223, -0.0663, -0.0521,  0.0729,  0.0868,\n",
            "        -0.0928,  0.0254,  0.0422,  0.0431,  0.0322, -0.0257,  0.0131,  0.0476,\n",
            "        -0.0093, -0.0158, -0.0631, -0.0861,  0.0079,  0.0036,  0.0735, -0.0588,\n",
            "        -0.0040, -0.0700,  0.0068, -0.0433,  0.0081, -0.0166, -0.0719, -0.0525,\n",
            "         0.0585,  0.0533, -0.0404,  0.0052,  0.0635,  0.0741, -0.0085, -0.0450,\n",
            "         0.0674, -0.0764, -0.0851, -0.0637, -0.0444,  0.0009,  0.0490,  0.0166,\n",
            "         0.0442,  0.0093, -0.0428, -0.0838], requires_grad=True))\n",
            "('4.weight', Parameter containing:\n",
            "tensor([[-0.0482, -0.0919,  0.0216,  ...,  0.0322,  0.0636, -0.0811],\n",
            "        [ 0.0480,  0.0683,  0.0914,  ...,  0.0036, -0.0701, -0.0490],\n",
            "        [-0.0228, -0.0270,  0.0590,  ...,  0.0081,  0.0610,  0.0572],\n",
            "        ...,\n",
            "        [-0.0450, -0.0060,  0.0455,  ..., -0.0900, -0.0228,  0.0204],\n",
            "        [-0.0640,  0.0222, -0.0369,  ...,  0.0278,  0.0788, -0.0805],\n",
            "        [ 0.0420, -0.0044, -0.0597,  ...,  0.0647,  0.0526,  0.0355]],\n",
            "       requires_grad=True))\n",
            "('4.bias', Parameter containing:\n",
            "tensor([-0.0835, -0.0288, -0.0918, -0.0896,  0.0414, -0.0344, -0.0813,  0.0986,\n",
            "         0.0613,  0.0554, -0.0048, -0.0850,  0.0830, -0.0942,  0.0135,  0.0156,\n",
            "        -0.0158, -0.0029, -0.0637, -0.0111,  0.0083, -0.0383, -0.0454,  0.0343,\n",
            "         0.0899, -0.0699, -0.0094,  0.0037,  0.0058,  0.0885,  0.0725,  0.0164,\n",
            "        -0.0781,  0.0638, -0.0132, -0.0496, -0.0359,  0.0062, -0.0380,  0.0082,\n",
            "         0.0462,  0.0487, -0.0057,  0.0936, -0.0936,  0.0902,  0.0658,  0.0301,\n",
            "         0.0899,  0.0290,  0.0892,  0.0995, -0.0537,  0.0982, -0.0579,  0.0447,\n",
            "         0.0132,  0.0237, -0.0775,  0.0422,  0.0547,  0.0086,  0.0123,  0.0258,\n",
            "        -0.0273,  0.0263,  0.0146,  0.0310, -0.0560, -0.0326,  0.0882,  0.0412,\n",
            "        -0.0234, -0.0417, -0.0558,  0.0024, -0.0271, -0.0171,  0.0792, -0.0326,\n",
            "         0.0590, -0.0264,  0.0152,  0.0212,  0.0170,  0.0369, -0.0823,  0.0012,\n",
            "        -0.0892,  0.0528, -0.0541, -0.0444,  0.0373,  0.0965,  0.0567, -0.0241,\n",
            "        -0.0851, -0.0284, -0.0120, -0.0297], requires_grad=True))\n",
            "('6.weight', Parameter containing:\n",
            "tensor([[-0.0798, -0.0731, -0.0988,  0.0787, -0.0500, -0.0697, -0.0879,  0.0664,\n",
            "         -0.0092, -0.0480,  0.0588, -0.0828,  0.0259,  0.0367, -0.0857, -0.0779,\n",
            "          0.0116,  0.0551,  0.0233, -0.0032,  0.0348, -0.0318,  0.0260, -0.0991,\n",
            "          0.0286,  0.0590, -0.0552,  0.0937, -0.0272, -0.0786, -0.0821,  0.0176,\n",
            "         -0.0955, -0.0978, -0.0783,  0.0206,  0.0910, -0.0621, -0.0474, -0.0537,\n",
            "         -0.0813, -0.0870,  0.0471,  0.0784,  0.0040,  0.0343,  0.0176, -0.0169,\n",
            "         -0.0121, -0.0680,  0.0289, -0.0094, -0.0464,  0.0071, -0.0349,  0.0034,\n",
            "          0.0289, -0.0290, -0.0941,  0.0026,  0.0298,  0.0281,  0.0437, -0.0756,\n",
            "         -0.0397,  0.0480, -0.0514,  0.0826, -0.0294,  0.0797,  0.0451, -0.0658,\n",
            "         -0.0012, -0.0623, -0.0909, -0.0375,  0.0645,  0.0121, -0.0439,  0.0926,\n",
            "          0.0414, -0.0895,  0.0813, -0.0820,  0.0098, -0.0592,  0.0079, -0.0283,\n",
            "          0.0529, -0.0487,  0.0026,  0.0146, -0.0553, -0.0996, -0.0305, -0.0051,\n",
            "         -0.0248, -0.0789, -0.0744, -0.0677]], requires_grad=True))\n",
            "('6.bias', Parameter containing:\n",
            "tensor([0.0683], requires_grad=True))\n"
          ]
        },
        {
          "output_type": "display_data",
          "data": {
            "text/plain": [
              "<Figure size 640x480 with 1 Axes>"
            ],
            "image/png": "[encoded data removed]"
          },
          "metadata": {}
        },
        {
          "output_type": "display_data",
          "data": {
            "text/plain": [
              "<Figure size 640x480 with 1 Axes>"
            ],
            "image/png": "[encoded data removed]"
          },
          "metadata": {}
        }
      ]
    }
  ]
}
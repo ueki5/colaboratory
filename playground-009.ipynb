{
  "nbformat": 4,
  "nbformat_minor": 0,
  "metadata": {
    "colab": {
      "provenance": [],
      "include_colab_link": true
    },
    "kernelspec": {
      "name": "python3",
      "display_name": "Python 3"
    },
    "language_info": {
      "name": "python"
    }
  },
  "cells": [
    {
      "cell_type": "markdown",
      "metadata": {
        "id": "view-in-github",
        "colab_type": "text"
      },
      "source": [
        "<a href=\"https://colab.research.google.com/github/ueki5/colaboratory/blob/main/playground-009.ipynb\" target=\"_parent\"><img src=\"https://colab.research.google.com/assets/colab-badge.svg\" alt=\"Open In Colab\"/></a>"
      ]
    },
    {
      "cell_type": "code",
      "execution_count": 1,
      "metadata": {
        "id": "3V3opdcE4f0V",
        "outputId": "f7ce1a78-2fcd-40b8-c62c-c591331e0e2e",
        "colab": {
          "base_uri": "https://localhost:8080/"
        }
      },
      "outputs": [
        {
          "output_type": "stream",
          "name": "stdout",
          "text": [
            "Successfully installed japanize_matplotlib-1.1.3\n",
            "Successfully installed torchviz-0.0.3\n",
            "Setting up tree (2.0.2-1) ...\n"
          ]
        }
      ],
      "source": [
        "# 必要ライブラリ・コマンドの導入\n",
        "!pip install japanize_matplotlib | tail -n 1\n",
        "!pip install torchviz | tail -n 1\n",
        "w = !apt install tree\n",
        "print(w[-2])"
      ]
    },
    {
      "cell_type": "code",
      "source": [
        "# import torch\n",
        "# # レイヤー関数定義\n",
        "\n",
        "# # 最初の線形関数\n",
        "# # 784 入力数\n",
        "# # 128 出力数\n",
        "# l1 = torch.nn.Linear(784, 128)\n",
        "\n",
        "# # ２番目の線形関数\n",
        "# # 128 入力数\n",
        "# #  10 出力数\n",
        "# l2 = torch.nn.Linear(128, 10)\n",
        "\n",
        "# # 活性化関数\n",
        "# relu = torch.nn.ReLU(inplace=True)\n",
        "\n",
        "\n"
      ],
      "metadata": {
        "id": "Oly311vkIoLq"
      },
      "execution_count": 2,
      "outputs": []
    },
    {
      "cell_type": "code",
      "source": [
        "# # 入力テンソルから出力テンソルを計算\n",
        "\n",
        "# # ダミー入力データを作成\n",
        "# inputs = torch.randn(100, 784)\n",
        "\n",
        "# # 中間テンソル1の計算\n",
        "# m1 = l1(inputs)\n",
        "\n",
        "# # 中間テンソル2の計算\n",
        "# m2 = relu(m1)\n",
        "\n",
        "# # 出力テンソルの計算\n",
        "# outputs = l2(m2)\n",
        "\n",
        "# # 入力テンソルと出力テンソルのshape確認\n",
        "# print(f'inputs:{inputs.shape}')\n",
        "# print(f'm1:{m1.shape}')\n",
        "# print(f'm2:{m2.shape}')\n",
        "# print(f'出力テンソル:{outputs.shape}')\n",
        "\n"
      ],
      "metadata": {
        "colab": {
          "base_uri": "https://localhost:8080/"
        },
        "id": "7v8xxBMkJ5b8",
        "outputId": "0577614c-9ceb-4b49-92ca-6078a16bd2cd"
      },
      "execution_count": 3,
      "outputs": [
        {
          "output_type": "stream",
          "name": "stdout",
          "text": [
            "inputs:torch.Size([100, 784])\n",
            "m1:torch.Size([100, 128])\n",
            "m2:torch.Size([100, 128])\n",
            "出力テンソル:torch.Size([100, 10])\n"
          ]
        }
      ]
    },
    {
      "cell_type": "code",
      "source": [
        "# #nn.Sequentialを使って、全体を合成関数として定義\n",
        "# net2 = torch.nn.Sequential(\n",
        "#     l1,\n",
        "#     relu,\n",
        "#     l2\n",
        "# )\n",
        "\n",
        "# output2 = net2(inputs)\n",
        "\n",
        "# # 入力テンソルと出力テンソルのshape\n",
        "# print(f'入力テンソル:{inputs.shape}')\n",
        "# print(f'出力テンソル:{output2.shape}')\n"
      ],
      "metadata": {
        "colab": {
          "base_uri": "https://localhost:8080/"
        },
        "id": "xVSM7KRkNSdL",
        "outputId": "cddb5cf9-03b5-4c81-bd34-17511895a1ee"
      },
      "execution_count": 4,
      "outputs": [
        {
          "output_type": "stream",
          "name": "stdout",
          "text": [
            "入力テンソル:torch.Size([100, 784])\n",
            "出力テンソル:torch.Size([100, 10])\n"
          ]
        }
      ]
    },
    {
      "cell_type": "code",
      "source": [
        "import torch\n",
        "import numpy as np\n",
        "import matplotlib.pyplot as plt\n",
        "\n",
        "np.random.seed(123)\n",
        "def calc_result(x):\n",
        "  return x**2 + np.random.randn(100,1)*0.1\n",
        "x = np.random.randn(100, 1)\n",
        "y = calc_result(x)\n",
        "# print(x)\n",
        "# print(y)\n",
        "\n",
        "x_train = x[  :50, :]\n",
        "x_test  = x[50:  , :]\n",
        "y_train = y[  :50, :]\n",
        "y_test  = y[50:  , :]\n",
        "\n",
        "plt.scatter(x_train, y_train, c='b', label='training data')\n",
        "plt.scatter(x_test,  y_test,  c='k', label='test data', marker='x')\n",
        "\n",
        "plt.legend()\n",
        "plt.show()\n",
        "\n"
      ],
      "metadata": {
        "colab": {
          "base_uri": "https://localhost:8080/",
          "height": 1000
        },
        "id": "TKns2Y1Ni1xM",
        "outputId": "9d225ee2-7c74-4ce9-ace2-ec188f85514a"
      },
      "execution_count": 6,
      "outputs": [
        {
          "output_type": "stream",
          "name": "stdout",
          "text": [
            "[[-1.0856306 ]\n",
            " [ 0.99734545]\n",
            " [ 0.2829785 ]\n",
            " [-1.50629471]\n",
            " [-0.57860025]\n",
            " [ 1.65143654]\n",
            " [-2.42667924]\n",
            " [-0.42891263]\n",
            " [ 1.26593626]\n",
            " [-0.8667404 ]\n",
            " [-0.67888615]\n",
            " [-0.09470897]\n",
            " [ 1.49138963]\n",
            " [-0.638902  ]\n",
            " [-0.44398196]\n",
            " [-0.43435128]\n",
            " [ 2.20593008]\n",
            " [ 2.18678609]\n",
            " [ 1.0040539 ]\n",
            " [ 0.3861864 ]\n",
            " [ 0.73736858]\n",
            " [ 1.49073203]\n",
            " [-0.93583387]\n",
            " [ 1.17582904]\n",
            " [-1.25388067]\n",
            " [-0.6377515 ]\n",
            " [ 0.9071052 ]\n",
            " [-1.4286807 ]\n",
            " [-0.14006872]\n",
            " [-0.8617549 ]\n",
            " [-0.25561937]\n",
            " [-2.79858911]\n",
            " [-1.7715331 ]\n",
            " [-0.69987723]\n",
            " [ 0.92746243]\n",
            " [-0.17363568]\n",
            " [ 0.00284592]\n",
            " [ 0.68822271]\n",
            " [-0.87953634]\n",
            " [ 0.28362732]\n",
            " [-0.80536652]\n",
            " [-1.72766949]\n",
            " [-0.39089979]\n",
            " [ 0.57380586]\n",
            " [ 0.33858905]\n",
            " [-0.01183049]\n",
            " [ 2.39236527]\n",
            " [ 0.41291216]\n",
            " [ 0.97873601]\n",
            " [ 2.23814334]\n",
            " [-1.29408532]\n",
            " [-1.03878821]\n",
            " [ 1.74371223]\n",
            " [-0.79806274]\n",
            " [ 0.02968323]\n",
            " [ 1.06931597]\n",
            " [ 0.89070639]\n",
            " [ 1.75488618]\n",
            " [ 1.49564414]\n",
            " [ 1.06939267]\n",
            " [-0.77270871]\n",
            " [ 0.79486267]\n",
            " [ 0.31427199]\n",
            " [-1.32626546]\n",
            " [ 1.41729905]\n",
            " [ 0.80723653]\n",
            " [ 0.04549008]\n",
            " [-0.23309206]\n",
            " [-1.19830114]\n",
            " [ 0.19952407]\n",
            " [ 0.46843912]\n",
            " [-0.83115498]\n",
            " [ 1.16220405]\n",
            " [-1.09720305]\n",
            " [-2.12310035]\n",
            " [ 1.03972709]\n",
            " [-0.40336604]\n",
            " [-0.12602959]\n",
            " [-0.83751672]\n",
            " [-1.60596276]\n",
            " [ 1.25523737]\n",
            " [-0.68886898]\n",
            " [ 1.66095249]\n",
            " [ 0.80730819]\n",
            " [-0.31475815]\n",
            " [-1.0859024 ]\n",
            " [-0.73246199]\n",
            " [-1.21252313]\n",
            " [ 2.08711336]\n",
            " [ 0.16444123]\n",
            " [ 1.15020554]\n",
            " [-1.26735205]\n",
            " [ 0.18103513]\n",
            " [ 1.17786194]\n",
            " [-0.33501076]\n",
            " [ 1.03111446]\n",
            " [-1.08456791]\n",
            " [-1.36347154]\n",
            " [ 0.37940061]\n",
            " [-0.37917643]]\n",
            "[[ 1.24279928e+00]\n",
            " [ 7.96909147e-01]\n",
            " [ 1.51303294e-01]\n",
            " [ 2.52875416e+00]\n",
            " [ 3.32315653e-01]\n",
            " [ 2.73065685e+00]\n",
            " [ 5.90672710e+00]\n",
            " [-2.23152789e-03]\n",
            " [ 1.64520928e+00]\n",
            " [ 5.90697951e-01]\n",
            " [ 4.18118447e-01]\n",
            " [ 1.33256744e-01]\n",
            " [ 2.15072132e+00]\n",
            " [ 4.58320660e-01]\n",
            " [ 2.98393886e-01]\n",
            " [ 2.16535116e-01]\n",
            " [ 4.72903268e+00]\n",
            " [ 4.74878587e+00]\n",
            " [ 1.20406536e+00]\n",
            " [-5.33646414e-02]\n",
            " [ 5.16133815e-01]\n",
            " [ 2.16707117e+00]\n",
            " [ 8.87859766e-01]\n",
            " [ 1.45739550e+00]\n",
            " [ 1.73308583e+00]\n",
            " [ 3.79703740e-01]\n",
            " [ 9.04073969e-01]\n",
            " [ 2.09110256e+00]\n",
            " [ 6.70539762e-02]\n",
            " [ 6.86229107e-01]\n",
            " [-3.43908843e-02]\n",
            " [ 7.72209667e+00]\n",
            " [ 3.06268582e+00]\n",
            " [ 5.21996801e-01]\n",
            " [ 9.36281502e-01]\n",
            " [ 6.24962351e-02]\n",
            " [-5.48874104e-02]\n",
            " [ 6.54247511e-01]\n",
            " [ 9.25470741e-01]\n",
            " [ 4.50444475e-02]\n",
            " [ 5.66272088e-01]\n",
            " [ 2.99786338e+00]\n",
            " [ 2.79532513e-01]\n",
            " [ 3.62529665e-01]\n",
            " [ 1.70297416e-01]\n",
            " [-2.10680516e-02]\n",
            " [ 5.76903866e+00]\n",
            " [ 3.24950897e-01]\n",
            " [ 9.33957291e-01]\n",
            " [ 5.02361638e+00]\n",
            " [ 1.70003847e+00]\n",
            " [ 1.10745348e+00]\n",
            " [ 2.89934344e+00]\n",
            " [ 4.49217264e-01]\n",
            " [-1.01084413e-01]\n",
            " [ 1.16023087e+00]\n",
            " [ 8.48743492e-01]\n",
            " [ 3.02655806e+00]\n",
            " [ 2.37467713e+00]\n",
            " [ 1.12928308e+00]\n",
            " [ 5.99110357e-01]\n",
            " [ 6.12410274e-01]\n",
            " [ 1.12169566e-01]\n",
            " [ 1.82942748e+00]\n",
            " [ 2.07530193e+00]\n",
            " [ 5.61788529e-01]\n",
            " [ 1.54435725e-01]\n",
            " [-5.51707368e-02]\n",
            " [ 1.44384833e+00]\n",
            " [ 1.23701986e-02]\n",
            " [ 1.14536041e-01]\n",
            " [ 6.83306549e-01]\n",
            " [ 1.27663687e+00]\n",
            " [ 1.21114525e+00]\n",
            " [ 4.54786369e+00]\n",
            " [ 1.22822536e+00]\n",
            " [ 1.93442583e-01]\n",
            " [-4.52390777e-02]\n",
            " [ 6.62272280e-01]\n",
            " [ 2.59311420e+00]\n",
            " [ 1.58496695e+00]\n",
            " [ 6.20499404e-01]\n",
            " [ 2.89829846e+00]\n",
            " [ 6.15852915e-01]\n",
            " [ 4.42084781e-02]\n",
            " [ 9.23478564e-01]\n",
            " [ 4.81608521e-01]\n",
            " [ 1.37240657e+00]\n",
            " [ 4.32055973e+00]\n",
            " [ 6.61993424e-02]\n",
            " [ 1.34069202e+00]\n",
            " [ 1.60318442e+00]\n",
            " [ 5.27319293e-02]\n",
            " [ 1.37474697e+00]\n",
            " [ 1.31934104e-01]\n",
            " [ 7.40091527e-01]\n",
            " [ 1.14935821e+00]\n",
            " [ 1.84796958e+00]\n",
            " [ 1.09818653e-01]\n",
            " [ 1.21980142e-01]]\n"
          ]
        },
        {
          "output_type": "display_data",
          "data": {
            "text/plain": [
              "<Figure size 640x480 with 1 Axes>"
            ],
            "image/png": "[encoded data removed]"
          },
          "metadata": {}
        }
      ]
    },
    {
      "cell_type": "code",
      "source": [
        "# レイヤー関数定義\n",
        "\n",
        "# 最初の線形関数\n",
        "# 784 入力数\n",
        "# 128 出力数\n",
        "l1 = torch.nn.Linear(784, 128)\n",
        "\n",
        "# ２番目の線形関数\n",
        "# 128 入力数\n",
        "#  10 出力数\n",
        "l2 = torch.nn.Linear(128, 10)\n",
        "\n",
        "# 活性化関数\n",
        "relu = torch.nn.ReLU(inplace=True)\n"
      ],
      "metadata": {
        "id": "eaXf_jeYrQpO"
      },
      "execution_count": 5,
      "outputs": []
    },
    {
      "cell_type": "code",
      "source": [
        "# # 入力テンソルから出力テンソルを計算\n",
        "\n",
        "# # ダミー入力データを作成\n",
        "# inputs = torch.randn(100, 784)\n",
        "\n",
        "# # 中間テンソル1の計算\n",
        "# m1 = l1(inputs)\n",
        "\n",
        "# # 中間テンソル2の計算\n",
        "# m2 = relu(m1)\n",
        "\n",
        "# # 出力テンソルの計算\n",
        "# outputs = l2(m2)\n",
        "\n",
        "# # 入力テンソルと出力テンソルのshape確認\n",
        "# print(f'inputs:{inputs.shape}')\n",
        "# print(f'm1:{m1.shape}')\n",
        "# print(f'm2:{m2.shape}')\n",
        "# print(f'出力テンソル:{outputs.shape}')\n"
      ],
      "metadata": {
        "id": "kFRTc3IFB-lu"
      },
      "execution_count": null,
      "outputs": []
    },
    {
      "cell_type": "code",
      "source": [
        "# #nn.Sequentialを使って、全体を合成関数として定義\n",
        "# net2 = torch.nn.Sequential(\n",
        "#     l1,\n",
        "#     relu,\n",
        "#     l2\n",
        "# )\n",
        "\n",
        "# output2 = net2(inputs)\n",
        "\n",
        "# # 入力テンソルと出力テンソルのshape\n",
        "# print(f'入力テンソル:{inputs.shape}')\n",
        "# print(f'出力テンソル:{output2.shape}')\n"
      ],
      "metadata": {
        "id": "q48NWot5CDFz"
      },
      "execution_count": null,
      "outputs": []
    }
  ]
}
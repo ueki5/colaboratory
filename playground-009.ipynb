{
  "nbformat": 4,
  "nbformat_minor": 0,
  "metadata": {
    "colab": {
      "provenance": [],
      "include_colab_link": true
    },
    "kernelspec": {
      "name": "python3",
      "display_name": "Python 3"
    },
    "language_info": {
      "name": "python"
    }
  },
  "cells": [
    {
      "cell_type": "markdown",
      "metadata": {
        "id": "view-in-github",
        "colab_type": "text"
      },
      "source": [
        "<a href=\"https://colab.research.google.com/github/ueki5/colaboratory/blob/main/playground-009.ipynb\" target=\"_parent\"><img src=\"https://colab.research.google.com/assets/colab-badge.svg\" alt=\"Open In Colab\"/></a>"
      ]
    },
    {
      "cell_type": "code",
      "execution_count": 3,
      "metadata": {
        "id": "3V3opdcE4f0V",
        "outputId": "cabd5048-b37a-421a-d4e4-ca0951f19ad8",
        "colab": {
          "base_uri": "https://localhost:8080/"
        }
      },
      "outputs": [
        {
          "output_type": "stream",
          "name": "stdout",
          "text": [
            "Successfully installed japanize_matplotlib-1.1.3\n",
            "Successfully installed torchviz-0.0.3\n",
            "Setting up tree (2.0.2-1) ...\n"
          ]
        }
      ],
      "source": [
        "# 必要ライブラリ・コマンドの導入\n",
        "!pip install japanize_matplotlib | tail -n 1\n",
        "!pip install torchviz | tail -n 1\n",
        "w = !apt install tree\n",
        "print(w[-2])"
      ]
    },
    {
      "cell_type": "code",
      "source": [
        "import torch\n",
        "# レイヤー関数定義\n",
        "\n",
        "# 最初の線形関数\n",
        "# 784 入力数\n",
        "# 128 出力数\n",
        "l1 = torch.nn.Linear(784, 128)\n",
        "\n",
        "# ２番目の線形関数\n",
        "# 128 入力数\n",
        "#  10 出力数\n",
        "l2 = torch.nn.Linear(128, 10)\n",
        "\n",
        "# 活性化関数\n",
        "relu = torch.nn.ReLU(inplace=True)\n",
        "\n",
        "\n"
      ],
      "metadata": {
        "id": "Oly311vkIoLq"
      },
      "execution_count": 4,
      "outputs": []
    },
    {
      "cell_type": "code",
      "source": [
        "# 入力テンソルから出力テンソルを計算\n",
        "\n",
        "# ダミー入力データを作成\n",
        "inputs = torch.randn(100, 784)\n",
        "\n",
        "# 中間テンソル1の計算\n",
        "m1 = l1(inputs)\n",
        "\n",
        "# 中間テンソル2の計算\n",
        "m2 = relu(m1)\n",
        "\n",
        "# 出力テンソルの計算\n",
        "outputs = l2(m2)\n",
        "\n",
        "# 入力テンソルと出力テンソルのshape確認\n",
        "print(f'inputs:{inputs.shape}')\n",
        "print(f'm1:{m1.shape}')\n",
        "print(f'm2:{m2.shape}')\n",
        "print(f'出力テンソル:{outputs.shape}')\n",
        "\n"
      ],
      "metadata": {
        "colab": {
          "base_uri": "https://localhost:8080/"
        },
        "id": "7v8xxBMkJ5b8",
        "outputId": "8607e148-1ef6-49b2-9fea-e197f782f9f0"
      },
      "execution_count": 5,
      "outputs": [
        {
          "output_type": "stream",
          "name": "stdout",
          "text": [
            "inputs:torch.Size([100, 784])\n",
            "m1:torch.Size([100, 128])\n",
            "m2:torch.Size([100, 128])\n",
            "出力テンソル:torch.Size([100, 10])\n"
          ]
        }
      ]
    },
    {
      "cell_type": "code",
      "source": [
        "#nn.Sequentialを使って、全体を合成関数として定義\n",
        "net2 = torch.nn.Sequential(\n",
        "    l1,\n",
        "    relu,\n",
        "    l2\n",
        ")\n",
        "\n",
        "output2 = net2(inputs)\n",
        "\n",
        "# 入力テンソルと出力テンソルのshape\n",
        "print(f'入力テンソル:{inputs.shape}')\n",
        "print(f'出力テンソル:{output2.shape}')\n"
      ],
      "metadata": {
        "colab": {
          "base_uri": "https://localhost:8080/"
        },
        "id": "xVSM7KRkNSdL",
        "outputId": "5cfc105b-3f26-4862-b5d3-84734d3f5d9e"
      },
      "execution_count": 6,
      "outputs": [
        {
          "output_type": "stream",
          "name": "stdout",
          "text": [
            "入力テンソル:torch.Size([100, 784])\n",
            "出力テンソル:torch.Size([100, 10])\n"
          ]
        }
      ]
    },
    {
      "cell_type": "code",
      "source": [
        "import numpy as np\n",
        "\n",
        "np.random.seed(123)\n",
        "x = np.random.randn(100, 1)\n",
        "print(x)"
      ],
      "metadata": {
        "id": "TKns2Y1Ni1xM",
        "outputId": "dd3fa720-42bc-419f-a1aa-44f73bc769b4",
        "colab": {
          "base_uri": "https://localhost:8080/",
          "height": 211
        }
      },
      "execution_count": 7,
      "outputs": [
        {
          "output_type": "error",
          "ename": "NameError",
          "evalue": "name 'np' is not defined",
          "traceback": [
            "\u001b[0;31m---------------------------------------------------------------------------\u001b[0m",
            "\u001b[0;31mNameError\u001b[0m                                 Traceback (most recent call last)",
            "\u001b[0;32m/tmp/ipython-input-2622116906.py\u001b[0m in \u001b[0;36m<cell line: 0>\u001b[0;34m()\u001b[0m\n\u001b[0;32m----> 1\u001b[0;31m \u001b[0mnp\u001b[0m\u001b[0;34m.\u001b[0m\u001b[0mrandom\u001b[0m\u001b[0;34m.\u001b[0m\u001b[0mseed\u001b[0m\u001b[0;34m(\u001b[0m\u001b[0;36m123\u001b[0m\u001b[0;34m)\u001b[0m\u001b[0;34m\u001b[0m\u001b[0;34m\u001b[0m\u001b[0m\n\u001b[0m\u001b[1;32m      2\u001b[0m \u001b[0mx\u001b[0m \u001b[0;34m=\u001b[0m \u001b[0mnp\u001b[0m\u001b[0;34m.\u001b[0m\u001b[0mrandom\u001b[0m\u001b[0;34m.\u001b[0m\u001b[0mrandn\u001b[0m\u001b[0;34m(\u001b[0m\u001b[0;36m100\u001b[0m\u001b[0;34m,\u001b[0m \u001b[0;36m1\u001b[0m\u001b[0;34m)\u001b[0m\u001b[0;34m\u001b[0m\u001b[0;34m\u001b[0m\u001b[0m\n\u001b[1;32m      3\u001b[0m \u001b[0mprint\u001b[0m\u001b[0;34m(\u001b[0m\u001b[0mx\u001b[0m\u001b[0;34m)\u001b[0m\u001b[0;34m\u001b[0m\u001b[0;34m\u001b[0m\u001b[0m\n",
            "\u001b[0;31mNameError\u001b[0m: name 'np' is not defined"
          ]
        }
      ]
    }
  ]
}
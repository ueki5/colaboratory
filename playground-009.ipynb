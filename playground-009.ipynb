{
  "nbformat": 4,
  "nbformat_minor": 0,
  "metadata": {
    "colab": {
      "provenance": [],
      "authorship_tag": "ABX9TyOoIfXLiwVfBFQpaHWMDNIY",
      "include_colab_link": true
    },
    "kernelspec": {
      "name": "python3",
      "display_name": "Python 3"
    },
    "language_info": {
      "name": "python"
    }
  },
  "cells": [
    {
      "cell_type": "markdown",
      "metadata": {
        "id": "view-in-github",
        "colab_type": "text"
      },
      "source": [
        "<a href=\"https://colab.research.google.com/github/ueki5/colaboratory/blob/main/playground-009.ipynb\" target=\"_parent\"><img src=\"https://colab.research.google.com/assets/colab-badge.svg\" alt=\"Open In Colab\"/></a>"
      ]
    },
    {
      "cell_type": "markdown",
      "source": [
        "# 序章"
      ],
      "metadata": {
        "id": "fCNwFiJeqJZf"
      }
    },
    {
      "cell_type": "markdown",
      "source": [
        "## ライブラリ・コマンドの準備"
      ],
      "metadata": {
        "id": "ACXyXVuEqYJv"
      }
    },
    {
      "cell_type": "code",
      "execution_count": 3,
      "metadata": {
        "id": "l3Ek-KMWoN4L",
        "colab": {
          "base_uri": "https://localhost:8080/"
        },
        "outputId": "ebdfb7a1-b255-4f28-8794-130c9a36d40f"
      },
      "outputs": [
        {
          "output_type": "stream",
          "name": "stdout",
          "text": [
            "Requirement already satisfied: six>=1.5 in /usr/local/lib/python3.12/dist-packages (from python-dateutil>=2.7->matplotlib->japanize_matplotlib) (1.17.0)\n",
            "Requirement already satisfied: MarkupSafe>=2.0 in /usr/local/lib/python3.12/dist-packages (from jinja2->torch->torchviz) (3.0.3)\n",
            "tree is already the newest version (2.0.2-1).\n"
          ]
        }
      ],
      "source": [
        "# 必要ライブラリ・コマンドの導入\n",
        "!pip install japanize_matplotlib | tail -n 1\n",
        "!pip install torchviz | tail -n 1\n",
        "w = !apt install tree\n",
        "print(w[-2])"
      ]
    },
    {
      "cell_type": "code",
      "source": [
        "# 必要ライブラリのインポート\n",
        "\n",
        "%matplotlib inline\n",
        "import numpy as np\n",
        "import matplotlib.pyplot as plt\n",
        "\n",
        "import torch\n",
        "import torch.nn as nn\n",
        "import torch.optim as optim\n",
        "import torchvision.datasets as datasets\n",
        "import torchvision.transforms as transforms\n",
        "from torch.utils.data import DataLoader"
      ],
      "metadata": {
        "id": "fD9-dxSPp-bs"
      },
      "execution_count": 4,
      "outputs": []
    },
    {
      "cell_type": "markdown",
      "source": [
        "## 初期設定"
      ],
      "metadata": {
        "id": "DHRmiEcdqdKi"
      }
    },
    {
      "cell_type": "code",
      "source": [
        "# 初期設定\n",
        "\n",
        "# デフォルトフォントサイズ変更\n",
        "plt.rcParams['font.size'] = 14\n",
        "\n",
        "# warning表示off\n",
        "import warnings\n",
        "warnings.simplefilter('ignore')"
      ],
      "metadata": {
        "id": "2-srxyonp-dN"
      },
      "execution_count": 5,
      "outputs": []
    },
    {
      "cell_type": "code",
      "source": [
        "# デバイスの割り当て (8章)\n",
        "\n",
        "device = torch.device(\"cuda:0\" if torch.cuda.is_available() else \"cpu\")\n",
        "print(device)"
      ],
      "metadata": {
        "colab": {
          "base_uri": "https://localhost:8080/"
        },
        "id": "CwEcf0f4qxbr",
        "outputId": "fac395be-4f99-4285-da86-eafed9c2776a"
      },
      "execution_count": 6,
      "outputs": [
        {
          "output_type": "stream",
          "name": "stdout",
          "text": [
            "cpu\n"
          ]
        }
      ]
    },
    {
      "cell_type": "code",
      "source": [
        "# 共通関数の読み込み (9章)\n",
        "\n",
        "# 共通関数のダウンロード\n",
        "!git clone https://github.com/makaishi2/pythonlibs.git\n",
        "\n",
        "# 共通関数のロード\n",
        "from pythonlibs.torch_lib1 import *\n",
        "\n",
        "# 共通関数の存在チェック\n",
        "print(README)"
      ],
      "metadata": {
        "colab": {
          "base_uri": "https://localhost:8080/"
        },
        "id": "VHFvod_Pq0E1",
        "outputId": "dc44a80b-3b48-4155-93a8-bd849ef69597"
      },
      "execution_count": 7,
      "outputs": [
        {
          "output_type": "stream",
          "name": "stdout",
          "text": [
            "Cloning into 'pythonlibs'...\n",
            "remote: Enumerating objects: 112, done.\u001b[K\n",
            "remote: Counting objects: 100% (4/4), done.\u001b[K\n",
            "remote: Compressing objects: 100% (3/3), done.\u001b[K\n",
            "remote: Total 112 (delta 0), reused 2 (delta 0), pack-reused 108 (from 1)\u001b[K\n",
            "Receiving objects: 100% (112/112), 21.12 MiB | 33.37 MiB/s, done.\n",
            "Resolving deltas: 100% (49/49), done.\n",
            "Common Library for PyTorch\n",
            "Author: M. Akaishi\n"
          ]
        }
      ]
    },
    {
      "cell_type": "markdown",
      "source": [
        "## 学習データ読み込み"
      ],
      "metadata": {
        "id": "2_SrB1mtq37N"
      }
    },
    {
      "cell_type": "code",
      "source": [
        "# 学習用データの取り込み (12章)\n",
        "\n",
        "# 学習用イメージのダウンロード\n",
        "w = !wget https://github.com/makaishi2/pythonlibs/raw/main/images/dog_wolf.zip\n",
        "print(w[-2])\n",
        "\n",
        "# 学習用イメージの展開\n",
        "w = !unzip dog_wolf.zip\n",
        "print(w[-1])\n",
        " # ディレクトリ名の設定\n",
        "data_dir = 'dog_wolf'\n",
        "\n",
        "# ディレクトリ名設定\n",
        "import os\n",
        "train_dir = os.path.join(data_dir, 'train')\n",
        "test_dir = os.path.join(data_dir, 'test')\n",
        "\n",
        "# 分類先クラス名設定\n",
        "classes = ['dog', 'wolf']\n",
        "\n",
        "# 解凍結果のツリー表示\n",
        "!tree dog_wolf"
      ],
      "metadata": {
        "colab": {
          "base_uri": "https://localhost:8080/"
        },
        "id": "XhjBVXU2rDKz",
        "outputId": "93b897d5-f250-4f98-da29-a299269b7552"
      },
      "execution_count": 8,
      "outputs": [
        {
          "output_type": "stream",
          "name": "stdout",
          "text": [
            "2025-10-24 00:47:21 (144 MB/s) - ‘dog_wolf.zip’ saved [21811374/21811374]\n",
            "  inflating: dog_wolf/train/wolf/wolf-09.png  \n",
            "\u001b[01;34mdog_wolf\u001b[0m\n",
            "├── \u001b[01;34mtest\u001b[0m\n",
            "│   ├── \u001b[01;34mdog\u001b[0m\n",
            "│   │   ├── \u001b[00mdog-21.png\u001b[0m\n",
            "│   │   ├── \u001b[00mdog-22.png\u001b[0m\n",
            "│   │   ├── \u001b[00mdog-23.png\u001b[0m\n",
            "│   │   ├── \u001b[00mdog-24.png\u001b[0m\n",
            "│   │   └── \u001b[00mdog-25.png\u001b[0m\n",
            "│   └── \u001b[01;34mwolf\u001b[0m\n",
            "│       ├── \u001b[00mwolf-21.png\u001b[0m\n",
            "│       ├── \u001b[00mwolf-22.png\u001b[0m\n",
            "│       ├── \u001b[00mwolf-23.png\u001b[0m\n",
            "│       ├── \u001b[00mwolf-24.png\u001b[0m\n",
            "│       └── \u001b[00mwolf-25.png\u001b[0m\n",
            "└── \u001b[01;34mtrain\u001b[0m\n",
            "    ├── \u001b[01;34mdog\u001b[0m\n",
            "    │   ├── \u001b[00mdog-01.png\u001b[0m\n",
            "    │   ├── \u001b[00mdog-02.png\u001b[0m\n",
            "    │   ├── \u001b[00mdog-03.png\u001b[0m\n",
            "    │   ├── \u001b[00mdog-04.png\u001b[0m\n",
            "    │   ├── \u001b[00mdog-05.png\u001b[0m\n",
            "    │   ├── \u001b[00mdog-06.png\u001b[0m\n",
            "    │   ├── \u001b[00mdog-07.png\u001b[0m\n",
            "    │   ├── \u001b[00mdog-08.png\u001b[0m\n",
            "    │   ├── \u001b[00mdog-09.png\u001b[0m\n",
            "    │   ├── \u001b[00mdog-10.png\u001b[0m\n",
            "    │   ├── \u001b[00mdog-11.png\u001b[0m\n",
            "    │   ├── \u001b[00mdog-12.png\u001b[0m\n",
            "    │   ├── \u001b[00mdog-13.png\u001b[0m\n",
            "    │   ├── \u001b[00mdog-14.png\u001b[0m\n",
            "    │   ├── \u001b[00mdog-15.png\u001b[0m\n",
            "    │   ├── \u001b[00mdog-16.png\u001b[0m\n",
            "    │   ├── \u001b[00mdog-17.png\u001b[0m\n",
            "    │   ├── \u001b[00mdog-18.png\u001b[0m\n",
            "    │   ├── \u001b[00mdog-19.png\u001b[0m\n",
            "    │   └── \u001b[00mdog-20.png\u001b[0m\n",
            "    └── \u001b[01;34mwolf\u001b[0m\n",
            "        ├── \u001b[00mwolf-01.png\u001b[0m\n",
            "        ├── \u001b[00mwolf-02.png\u001b[0m\n",
            "        ├── \u001b[00mwolf-03.png\u001b[0m\n",
            "        ├── \u001b[00mwolf-04.png\u001b[0m\n",
            "        ├── \u001b[00mwolf-05.png\u001b[0m\n",
            "        ├── \u001b[00mwolf-06.png\u001b[0m\n",
            "        ├── \u001b[00mwolf-07.png\u001b[0m\n",
            "        ├── \u001b[00mwolf-08.png\u001b[0m\n",
            "        ├── \u001b[00mwolf-09.png\u001b[0m\n",
            "        ├── \u001b[00mwolf-10.png\u001b[0m\n",
            "        ├── \u001b[00mwolf-11.png\u001b[0m\n",
            "        ├── \u001b[00mwolf-12.png\u001b[0m\n",
            "        ├── \u001b[00mwolf-13.png\u001b[0m\n",
            "        ├── \u001b[00mwolf-14.png\u001b[0m\n",
            "        ├── \u001b[00mwolf-15.png\u001b[0m\n",
            "        ├── \u001b[00mwolf-16.png\u001b[0m\n",
            "        ├── \u001b[00mwolf-17.png\u001b[0m\n",
            "        ├── \u001b[00mwolf-18.png\u001b[0m\n",
            "        ├── \u001b[00mwolf-19.png\u001b[0m\n",
            "        └── \u001b[00mwolf-20.png\u001b[0m\n",
            "\n",
            "6 directories, 50 files\n"
          ]
        }
      ]
    },
    {
      "cell_type": "code",
      "source": [
        "# 学習用データの準備 (8章、10章、12章)\n",
        "\n",
        "# transformの定義\n",
        "# 検証データ用 : 正規化のみ実施\n",
        "test_transform = transforms.Compose([\n",
        "    transforms.Resize(224),\n",
        "    transforms.CenterCrop(224),\n",
        "    transforms.ToTensor(),\n",
        "    transforms.Normalize(0.5, 0.5)\n",
        "])\n",
        "\n",
        "# 訓練データ用: 正規化に追加で反転とRandomErasingを実施\n",
        "train_transform = transforms.Compose([\n",
        "    transforms.RandomHorizontalFlip(p=0.5),\n",
        "    transforms.Resize(224),\n",
        "    transforms.CenterCrop(224),\n",
        "    transforms.ToTensor(),\n",
        "    transforms.Normalize(0.5, 0.5),\n",
        "    transforms.RandomErasing(p=0.5, scale=(0.02, 0.33), ratio=(0.3, 3.3), value=0, inplace=False)\n",
        "])\n",
        "\n",
        "# datasetの定義\n",
        "train_data = datasets.ImageFolder(train_dir, transform=train_transform)\n",
        "train_data2 = datasets.ImageFolder(train_dir, transform=test_transform)\n",
        "test_data = datasets.ImageFolder(test_dir, transform=test_transform)\n",
        "\n",
        "# dataloaderの定義\n",
        "batch_size = 5\n",
        "#train_loader = DataLoader(train_data, batch_size=batch_size, shuffle=True)\n",
        "train_loader = DataLoader(train_data, batch_size=5, shuffle=True)\n",
        "train_loader2 = DataLoader(train_data2, batch_size=40, shuffle=False)\n",
        "test_loader = DataLoader(test_data, batch_size=5, shuffle=False)\n",
        "test_loader2 = DataLoader(test_data, batch_size=10, shuffle=True)\n"
      ],
      "metadata": {
        "id": "Qd0hasvSrHwV"
      },
      "execution_count": 9,
      "outputs": []
    },
    {
      "cell_type": "markdown",
      "source": [
        "## 学習データのイメージ表示"
      ],
      "metadata": {
        "id": "8RqnUHJOrPxd"
      }
    }
  ]
}
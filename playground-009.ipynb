{
  "nbformat": 4,
  "nbformat_minor": 0,
  "metadata": {
    "colab": {
      "provenance": [],
      "authorship_tag": "ABX9TyNVo1phJF9pfuuLrgvugygx",
      "include_colab_link": true
    },
    "kernelspec": {
      "name": "python3",
      "display_name": "Python 3"
    },
    "language_info": {
      "name": "python"
    }
  },
  "cells": [
    {
      "cell_type": "markdown",
      "metadata": {
        "id": "view-in-github",
        "colab_type": "text"
      },
      "source": [
        "<a href=\"https://colab.research.google.com/github/ueki5/colaboratory/blob/main/playground-009.ipynb\" target=\"_parent\"><img src=\"https://colab.research.google.com/assets/colab-badge.svg\" alt=\"Open In Colab\"/></a>"
      ]
    },
    {
      "cell_type": "code",
      "execution_count": 2,
      "metadata": {
        "id": "3V3opdcE4f0V",
        "outputId": "22659dd8-28d4-4c8c-b5d6-b4434cb36ab9",
        "colab": {
          "base_uri": "https://localhost:8080/"
        }
      },
      "outputs": [
        {
          "output_type": "stream",
          "name": "stdout",
          "text": [
            "Successfully installed japanize_matplotlib-1.1.3\n",
            "Successfully installed torchviz-0.0.3\n",
            "Setting up tree (2.0.2-1) ...\n"
          ]
        }
      ],
      "source": [
        "# 必要ライブラリ・コマンドの導入\n",
        "!pip install japanize_matplotlib | tail -n 1\n",
        "!pip install torchviz | tail -n 1\n",
        "w = !apt install tree\n",
        "print(w[-2])"
      ]
    },
    {
      "cell_type": "code",
      "source": [
        "import torch\n",
        "# レイヤー関数定義\n",
        "\n",
        "# 最初の線形関数\n",
        "# 784 入力数\n",
        "# 128 出力数\n",
        "l1 = torch.nn.Linear(784, 128)\n",
        "\n",
        "# ２番目の線形関数\n",
        "# 128 入力数\n",
        "#  10 出力数\n",
        "l2 = torch.nn.Linear(128, 10)\n",
        "\n",
        "# 活性化関数\n",
        "relu = torch.nn.ReLU(inplace=True)\n",
        "\n",
        "\n"
      ],
      "metadata": {
        "id": "Oly311vkIoLq"
      },
      "execution_count": 1,
      "outputs": []
    },
    {
      "cell_type": "code",
      "source": [
        "# 入力テンソルから出力テンソルを計算\n",
        "\n",
        "# ダミー入力データを作成\n",
        "inputs = torch.randn(100, 784)\n",
        "\n",
        "# 中間テンソル1の計算\n",
        "m1 = l1(inputs)\n",
        "\n",
        "# 中間テンソル2の計算\n",
        "m2 = relu(m1)\n",
        "\n",
        "# 出力テンソルの計算\n",
        "outputs = l2(m2)\n",
        "\n",
        "# 入力テンソルと出力テンソルのshape確認\n",
        "print(f'入力テンソル:{inputs.shape}')\n",
        "print(f'出力テンソル:{outputs.shape}')\n",
        "\n",
        "# 入力テンソルと出力テンソル確認\n",
        "print(f'入力テンソル:{inputs}')\n",
        "print(f'出力テンソル:{outputs}')\n",
        "\n"
      ],
      "metadata": {
        "colab": {
          "base_uri": "https://localhost:8080/"
        },
        "id": "7v8xxBMkJ5b8",
        "outputId": "e62754eb-e903-4b7b-d292-ad7fe032f733"
      },
      "execution_count": 4,
      "outputs": [
        {
          "output_type": "stream",
          "name": "stdout",
          "text": [
            "入力テンソル:torch.Size([100, 784])\n",
            "出力テンソル:torch.Size([100, 10])\n"
          ]
        }
      ]
    }
  ]
}